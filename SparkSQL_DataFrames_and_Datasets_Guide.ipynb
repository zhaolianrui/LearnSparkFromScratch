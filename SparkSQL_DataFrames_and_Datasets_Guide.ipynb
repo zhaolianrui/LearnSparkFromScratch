{
 "cells": [
  {
   "cell_type": "markdown",
   "metadata": {},
   "source": [
    "<h1>Spark SQL, DataFrames and Datasets Guide</h1>\n",
    "<ul>\n",
    "  <li>Overview<ul>\n",
    "      <li>SQL</li>\n",
    "      <li>Datasets and DataFrames</li>\n",
    "    </ul>\n",
    "  </li>\n",
    "  <li>Getting Started<ul>\n",
    "      <li>Starting Point: SparkSession</li>\n",
    "      <li>Creating DataFrames</li>\n",
    "      <li>Untyped Dataset Operations(aka DataFrame Operations)</li>\n",
    "      <li>Running SQL Queries Programmatically</li>\n",
    "      <li>Creating Datasets</li>\n",
    "      <li>Interoperating with RDDs<ul>\n",
    "          <li>Inferring the Schema Using Reflection</li>\n",
    "          <li>Programmatically Specifying the Schema</li>\n",
    "        </ul>\n",
    "      </li>\n",
    "    </ul>\n",
    "  </li>\n",
    "  <li>Data Sources<ul>\n",
    "      <li>Generic Load/Save Functions<ul>\n",
    "          <li>Manually Specifying Options</li>\n",
    "          <li>Run SQL on files directly</li>\n",
    "          <li>Save Modes</li>\n",
    "          <li>Saving to Persistent Tables</li>\n",
    "        </ul>\n",
    "      </li>\n",
    "      <li>Parquet Files<ul>\n",
    "          <li>Loading Data Programmatically</li>\n",
    "          <li>Partition Discovery</li>\n",
    "          <li>Schema Merging</li>\n",
    "          <li>Hive metastore Parquet table conversion<ul>\n",
    "              <li>Hive/Parquet Schema Reconciliation</li>\n",
    "              <li>Metadata Refreshing</li>\n",
    "            </ul>\n",
    "          </li>\n",
    "          <li>Configuration</li>\n",
    "        </ul>\n",
    "      </li>\n",
    "      <li>JSON Datasets</li>\n",
    "      <li>Hive Tables<ul>\n",
    "          <li>Interacting with Different Versions of Hive Metastore</li>\n",
    "        </ul>\n",
    "      </li>\n",
    "      <li>JDBC To Other Databases</li>\n",
    "      <li>Troubleshooting</li>\n",
    "    </ul>\n",
    "  </li>\n",
    "  <li>Performance Tuning<ul>\n",
    "      <li>Caching Data In Memory</li>\n",
    "      <li>Other Configuration Options</li>\n",
    "    </ul>\n",
    "  </li>\n",
    "  <li>Distributed SQL Engine<ul>\n",
    "      <li>Running the Thrift JDBC/ODBC server</li>\n",
    "      <li>Running the Spark SQL CLI</li>\n",
    "    </ul>\n",
    "  </li>\n",
    "  <li>Migration Guide<ul>\n",
    "      <li>Upgrading From Spark SQL 1.6 to 2.0</li>\n",
    "      <li>Upgrading From Spark SQL 1.5 to 1.6</li>\n",
    "      <li>Upgrading From Spark SQL 1.4 to 1.5</li>\n",
    "      <li>Upgrading from Spark SQL 1.3 to 1.4 <ul>\n",
    "          <li>DataFrame data reader/writer interface</li>\n",
    "          <li>DataFrame.groupBy retains grouping columns</li>\n",
    "          <li>Behavior change on DataFrame.withColumn</li>\n",
    "        </ul>\n",
    "      </li>\n",
    "      <li>Upgrading from Spark SQL 1.0-1.2 to 1.3<ul>\n",
    "          <li>Rename of SchemaRDD to DataFrame</li>\n",
    "          <li>Unification of the Java and Scala APIs</li>\n",
    "          <li>Isolation of Implicit Conversions and Removal of dsl Package (Scala-only)</li>\n",
    "          <li>Removal of the type aliases in org.apache.spark.sql for DataType (Scala-only)</li>\n",
    "          <li>UDF Registration Moved to <code>sqlContext.udf</code> (Java &amp; Scala)</li>\n",
    "          <li>Python DataTypes No Longer Singletons</li>\n",
    "        </ul>\n",
    "      </li>\n",
    "      <li>Compatibility with Apache Hive<ul>\n",
    "          <li>Deploying in Existing Hive Warehouses</li>\n",
    "          <li>Supported Hive Features</li>\n",
    "          <li>Unsupported Hive Functionality</li>\n",
    "        </ul>\n",
    "      </li>\n",
    "    </ul>\n",
    "  </li>\n",
    "  <li>Reference    <ul>\n",
    "      <li>Data Types</li>\n",
    "      <li>NaN Semantics</li>\n",
    "    </ul>\n",
    "  </li>\n",
    "</ul>\n",
    "\n",
    "<h1>Overview</h1>\n",
    "<p>Spark SQL is a Spark module for structured data processing. Unlike the basic Spark RDD API, the interfaces provided\n",
    "by Spark SQL provide Spark with more information about the structure of both the data and the computation being performed. Internally,Spark SQL uses this extra information to perform extra optimizations. There are several ways to\n",
    "interact with Spark SQL including SQL and the Dataset API. When computing a result the same execution engine is used, independent of which API/language you are using to express the computation. This unification(统一，联合; 一致;\n",
    ") means that developers can easily switch back and forth between different APIs based on which provides the most natural way to express a given transformation.</p>\n",
    "<p>All of the examples on this page use sample data included in the Spark distribution and can be run in the <code>spark-shell</code>, <code>pyspark</code> shell, or <code>sparkR</code> shell.</p>\n",
    "\n",
    "<h2>SQL</h2>\n",
    "<p>One use of Spark SQL is to execute SQL queries.Spark SQL can also be used to read data from an existing Hive installation. For more on how to configure this feature, please refer to the <strong>Hive Tables</strong> section. When running SQL from within another programming language the results will be returned as a <strong>Dataset/DataFrame</strong>.You can also interact with the SQL interface using the <strong>command-line</strong> or over <strong>JDBC/ODBC</strong>.</p>\n",
    "\n",
    "<h2>Datasets and DataFrames</h2>\n",
    "\n",
    "<p>A Dataset is a distributed collection of data.Dataset is a new interface added in Spark 1.6 that provides the benefits of RDDs (strong typing, ability to use powerful lambda functions) with the benefits of Spark SQL&#8217;s optimized execution engine. A Dataset can be <strong>constructed</strong> from JVM objects and then\n",
    "manipulated using functional transformations (<code>map</code>, <code>flatMap</code>, <code>filter</code>, etc.).\n",
    "The Dataset API is available in <a href=\"http://spark.apache.org/docs/latest/api/scala/index.html#org.apache.spark.sql.Dataset\">Scala</a> and\n",
    "<a href=\"http://spark.apache.org/docs/latest/api/java/index.html?org/apache/spark/sql/Dataset.html\">Java</a>. Python does not have the support for the Dataset API. But due to Python&#8217;s dynamic nature,many of the benefits of the Dataset API are already available (i.e. you can access the field of a row by name naturally<code>row.columnName</code>). The case for R is similar.</p>\n",
    "\n",
    "<p>A DataFrame is a <em>Dataset</em> organized into named columns. It is conceptually equivalent to a table in a relational database or a data frame in R/Python, but with richer optimizations under the hood(在幕后). DataFrames can be constructed from a wide array of <a href=\"http://spark.apache.org/docs/latest/sql-programming-guide.html#data-sources\">sources</a> such as: <u>structured data files, tables in Hive, external databases, or existing RDDs</u>.The DataFrame API is available in Scala,Java, <a href=\"http://spark.apache.org/docs/latest/api/python/pyspark.sql.html#pyspark.sql.DataFrame\">Python</a>, and <a href=\"http://spark.apache.org/docs/latest/api/R/index.html\">R</a>.In Scala and Java, a DataFrame is represented by a Dataset of <code>Row</code>s.In <a href=\"http://spark.apache.org/docs/latest/api/scala/index.html#org.apache.spark.sql.Dataset\">the Scala API</a>, <code>DataFrame</code> is simply a type alias of <code>Dataset[Row]</code>.While, in <a href=\"http://spark.apache.org/docs/latest/api/java/index.html?org/apache/spark/sql/Dataset.html\">Java API</a>, users need to use <code>Dataset&lt;Row&gt;</code> to represent a <code>DataFrame</code>.</p>\n",
    "\n",
    "<p>Throughout this document, we will often refer to Scala/Java Datasets of <code>Row</code>s as DataFrames.</p>\n",
    "\n",
    "<h1>Getting Started</h1>\n",
    "<h2>Starting Point: SparkSession</h2>\n",
    "<p>The entry point into(入口点) all functionality in Spark is the <a href=\"http://spark.apache.org/docs/latest/api/python/pyspark.sql.html#pyspark.sql.SparkSession\"><code>SparkSession</code></a> class. To create a basic <code>SparkSession</code>, just use <code>SparkSession.builder</code>:</p>"
   ]
  },
  {
   "cell_type": "code",
   "execution_count": 1,
   "metadata": {
    "collapsed": true
   },
   "outputs": [],
   "source": [
    "from pyspark.sql import SparkSession\n",
    "import shutil\n",
    "spark = SparkSession\\\n",
    ".builder\\\n",
    ".appName(\"PythonSQL\")\\\n",
    ".config(\"spark.some.config.option\", 'some-value')\\\n",
    ".getOrCreate()"
   ]
  },
  {
   "cell_type": "markdown",
   "metadata": {},
   "source": [
    "<p><code>SparkSession</code> in Spark 2.0 provides builtin support for Hive features including the ability to write queries using HiveQL, access to Hive UDFs(User defined Function,用户自定义函数), and the ability to read data from Hive tables.To use these features, you do not need to have an existing Hive setup.</p>"
   ]
  },
  {
   "cell_type": "markdown",
   "metadata": {},
   "source": [
    "<h2 id=\"creating-dataframes\">Creating DataFrames</h2>\n",
    "<p>With a <code>SparkSession</code>, applications can create DataFrames from an <a href=\"http://spark.apache.org/docs/latest/sql-programming-guide.html#interoperating-with-rdds\">existing <code>RDD</code></a>,from a Hive table, or from <a href=\"http://spark.apache.org/docs/latest/sql-programming-guide.html#data-sources\">Spark data sources</a>.</p>\n",
    "\n",
    "<p>As an example, the following creates a DataFrame based on the content of a JSON file:</p>"
   ]
  },
  {
   "cell_type": "code",
   "execution_count": 2,
   "metadata": {
    "collapsed": false
   },
   "outputs": [
    {
     "name": "stdout",
     "output_type": "stream",
     "text": [
      "+----+-------+\n",
      "| age|   name|\n",
      "+----+-------+\n",
      "|null|Michael|\n",
      "|  30|   Andy|\n",
      "|  19| Justin|\n",
      "+----+-------+\n",
      "\n"
     ]
    }
   ],
   "source": [
    "# spark is an existing SparkSession\n",
    "df = spark.read.json(\"resources/people.json\")\n",
    "# Displays the content of the DataFrame to stdout\n",
    "df.show()"
   ]
  },
  {
   "cell_type": "markdown",
   "metadata": {},
   "source": [
    "<h2>Untyped Dataset Operations (aka DataFrame Operations)</h2>\n",
    "<p>DataFrames provide a domain-specific language(DSL:领域特定语言) for structured data manipulation in <a href=\"https://spark.apache.org/docs/latest/api/scala/index.html#org.apache.spark.sql.Dataset\">Scala</a>, <a href=\"https://spark.apache.org/docs/latest/api/java/index.html?org/apache/spark/sql/Dataset.html\">Java</a>, <a href=\"https://spark.apache.org/docs/latest/api/python/pyspark.sql.html#pyspark.sql.DataFrame\">Python</a> and <a href=\"https://spark.apache.org/docs/latest/api/R/DataFrame.htmll\">R</a>.</p>\n",
    "<p>As mentioned above, in Spark 2.0, DataFrames are just Dataset of <code>Row</code>s in Scala and Java API. These operations are also referred as “untyped transformations” in contrast to “typed transformations” come with strongly typed(强类型) Scala/Java Datasets.</p>\n",
    "<p>Here we include some basic examples of structured data processing using Datasets:</p>\n",
    "<p>In Python it’s possible to access a DataFrame’s columns either by attribute (<code>df.age</code>) or by indexing (<code>df['age']</code>). While the former(前者) is convenient for interactive data exploration, users are highly encouraged to use the latter form, which is future proof and won’t break with column names that are also attributes on the DataFrame class.</p>"
   ]
  },
  {
   "cell_type": "code",
   "execution_count": 3,
   "metadata": {
    "collapsed": false
   },
   "outputs": [
    {
     "name": "stdout",
     "output_type": "stream",
     "text": [
      "root\n",
      " |-- age: long (nullable = true)\n",
      " |-- name: string (nullable = true)\n",
      "\n"
     ]
    }
   ],
   "source": [
    "# spark, df are from the previous example\n",
    "# Print the schema in a tree format\n",
    "df.printSchema()"
   ]
  },
  {
   "cell_type": "code",
   "execution_count": 4,
   "metadata": {
    "collapsed": false
   },
   "outputs": [
    {
     "name": "stdout",
     "output_type": "stream",
     "text": [
      "+-------+\n",
      "|   name|\n",
      "+-------+\n",
      "|Michael|\n",
      "|   Andy|\n",
      "| Justin|\n",
      "+-------+\n",
      "\n"
     ]
    }
   ],
   "source": [
    "# Select only the \"name\" column\n",
    "df.select(\"name\").show()"
   ]
  },
  {
   "cell_type": "code",
   "execution_count": 5,
   "metadata": {
    "collapsed": false
   },
   "outputs": [
    {
     "name": "stdout",
     "output_type": "stream",
     "text": [
      "+-------+---------+\n",
      "|   name|(age + 1)|\n",
      "+-------+---------+\n",
      "|Michael|     null|\n",
      "|   Andy|       31|\n",
      "| Justin|       20|\n",
      "+-------+---------+\n",
      "\n"
     ]
    }
   ],
   "source": [
    "# Select everybody, but increment the age by 1\n",
    "df.select(df[\"name\"], df[\"age\"] + 1).show()"
   ]
  },
  {
   "cell_type": "code",
   "execution_count": 6,
   "metadata": {
    "collapsed": false
   },
   "outputs": [
    {
     "name": "stdout",
     "output_type": "stream",
     "text": [
      "+---+----+\n",
      "|age|name|\n",
      "+---+----+\n",
      "| 30|Andy|\n",
      "+---+----+\n",
      "\n"
     ]
    }
   ],
   "source": [
    "# Select people older than 21\n",
    "df.filter(df['age'] > 21).show()"
   ]
  },
  {
   "cell_type": "code",
   "execution_count": 7,
   "metadata": {
    "collapsed": false
   },
   "outputs": [
    {
     "name": "stdout",
     "output_type": "stream",
     "text": [
      "+----+-----+\n",
      "| age|count|\n",
      "+----+-----+\n",
      "|  19|    1|\n",
      "|null|    1|\n",
      "|  30|    1|\n",
      "+----+-----+\n",
      "\n"
     ]
    }
   ],
   "source": [
    "# Count people by age\n",
    "df.groupBy('age').count().show()"
   ]
  },
  {
   "cell_type": "markdown",
   "metadata": {},
   "source": [
    "<p>For a complete list of the types of operations that can be performed on a DataFrame refer to the <a href=\"https://spark.apache.org/docs/latest/api/python/pyspark.sql.html#pyspark.sql.DataFrame\">API Documentation</a>.</p>\n",
    "<p>In addition to simple column references and expressions, DataFrames also have a rich library of functions including string manipulation, date arithmetic, common math operations and more. The complete list is available in the <a href=\"https://spark.apache.org/docs/latest/api/python/pyspark.sql.html#module-pyspark.sql.functions\">DataFrame Function Reference</a>.</p>\n",
    "<h2>Running SQL Queries Programmatically(编码的方式运行SQL查询)</h2>\n",
    "<ul>\n",
    "<li><b>Scala</b></li><li><b>Java</b></li>\n",
    "<li><b>Python</b></li><li><b>R</b></li>\n",
    "</ul>\n",
    "<p>The <code>sql</code> function on a <code>SparkSession</code> enables applications to run SQL queries programmatically and returns the result as a <code>DataFrame</code>.</p>"
   ]
  },
  {
   "cell_type": "markdown",
   "metadata": {},
   "source": [
    "<dl>\n",
    "<dt>\n",
    "<a target=\"_blank\" href=\"https://spark.apache.org/docs/latest/api/python/pyspark.sql.html?highlight=createorreplacetempview#pyspark.sql.DataFrame.createOrReplaceTempView\" ><tt>createOrReplaceTempView</tt><big>(</big><em>name</em><big>)</big></a></dt>\n",
    "<dd><p>Creates or replaces a temporary view with this DataFrame.</p>\n",
    "<p>The lifetime of this temporary table is tied to the <a href=\"https://spark.apache.org/docs/latest/api/python/pyspark.sql.html?highlight=createorreplacetempview#pyspark.sql.SparkSession\" target=\"_blank\"><tt>SparkSession</tt></a>\n",
    "that was used to create this <a target=\"_blank\" href=\"https://spark.apache.org/docs/latest/api/python/pyspark.sql.html?highlight=createorreplacetempview#pyspark.sql.DataFrame\"><tt>DataFrame</tt></a>.</p>\n",
    "</dd></dl>"
   ]
  },
  {
   "cell_type": "code",
   "execution_count": 8,
   "metadata": {
    "collapsed": false
   },
   "outputs": [
    {
     "name": "stdout",
     "output_type": "stream",
     "text": [
      "+----+-------+\n",
      "| age|   name|\n",
      "+----+-------+\n",
      "|null|Michael|\n",
      "|  30|   Andy|\n",
      "|  19| Justin|\n",
      "+----+-------+\n",
      "\n"
     ]
    }
   ],
   "source": [
    "# Register the DataFrame as a SQL temporary view\n",
    "df.createOrReplaceTempView(\"people\")\n",
    "sqlDF = spark.sql(\"select * from people\")\n",
    "sqlDF.show()"
   ]
  },
  {
   "cell_type": "markdown",
   "metadata": {},
   "source": [
    "<h2>Creating Datasets(仅支持Scala,Java)</h2>\n",
    "<p>Datasets are similar to RDDs, however, instead of using Java serialization or Kryo they use\n",
    "a specialized <a href=\"https://spark.apache.org/docs/latest/api/scala/index.html#org.apache.spark.sql.Encoder\">Encoder</a> to serialize the objects\n",
    "for processing or transmitting over the network. While both encoders and standard serialization are\n",
    "responsible for turning an object into bytes, encoders are code generated dynamically and use a format\n",
    "that allows Spark to perform many operations like filtering, sorting and hashing without deserializing\n",
    "the bytes back into an object.</p>"
   ]
  },
  {
   "cell_type": "markdown",
   "metadata": {},
   "source": [
    "<h2>Interoperating with(互操作) RDDs</h2>\n",
    "\n",
    "<p>Spark SQL supports two different methods for converting existing RDDs into Datasets. The first method uses reflection(反射) to infer(推断; 猜想) the schema of an RDD that contains specific types of objects. This reflection based approach leads to more concise code(简洁的代码) and works well when you already know the schema while writing your Spark application.</p>\n",
    "<p>The second method for creating Datasets is through a programmatic interface that allows you to construct a schema and then apply it to an existing RDD. While this method is more verbose(冗长的，啰唆的，累赘的;), it allows you to construct Datasets when the columns and their types are not known until runtime.</p>\n",
    "\n",
    "<h3>Inferring the Schema Using Reflection</h3>\n",
    "<p>Spark SQL can convert an RDD of <a href=\"https://spark.apache.org/docs/latest/api/python/pyspark.sql.html?highlight=row#pyspark.sql.Row\" target=\"_blank\">Row</a> objects to a DataFrame, inferring the datatypes. Rows are constructed by passing a list of key/value pairs as kwargs to the Row class. The keys of this list define the column names of the table, and the types are inferred by sampling the whole datase, similar to the inference that is performed on JSON files.</p>"
   ]
  },
  {
   "cell_type": "code",
   "execution_count": 9,
   "metadata": {
    "collapsed": false
   },
   "outputs": [
    {
     "data": {
      "text/plain": [
       "['Michael, 29', 'Andy, 30', 'Justin, 19']"
      ]
     },
     "execution_count": 9,
     "metadata": {},
     "output_type": "execute_result"
    }
   ],
   "source": [
    "from pyspark.sql import Row\n",
    "# Load a text file and convert each line to a Row.\n",
    "lines = sc.textFile(\"resources/people.txt\")\n",
    "lines.collect()"
   ]
  },
  {
   "cell_type": "code",
   "execution_count": 10,
   "metadata": {
    "collapsed": false
   },
   "outputs": [
    {
     "data": {
      "text/plain": [
       "[['Michael', ' 29'], ['Andy', ' 30'], ['Justin', ' 19']]"
      ]
     },
     "execution_count": 10,
     "metadata": {},
     "output_type": "execute_result"
    }
   ],
   "source": [
    "parts = lines.map(lambda line: line.split(\",\"))\n",
    "parts.collect()"
   ]
  },
  {
   "cell_type": "code",
   "execution_count": 11,
   "metadata": {
    "collapsed": false
   },
   "outputs": [
    {
     "data": {
      "text/plain": [
       "[Row(age=29, name='Michael'),\n",
       " Row(age=30, name='Andy'),\n",
       " Row(age=19, name='Justin')]"
      ]
     },
     "execution_count": 11,
     "metadata": {},
     "output_type": "execute_result"
    }
   ],
   "source": [
    "people = parts.map(lambda people: Row(name=people[0], age=int(people[1])))\n",
    "people.collect()"
   ]
  },
  {
   "cell_type": "code",
   "execution_count": 12,
   "metadata": {
    "collapsed": false
   },
   "outputs": [
    {
     "name": "stdout",
     "output_type": "stream",
     "text": [
      "Name: Justin\n"
     ]
    }
   ],
   "source": [
    "# Infer the schema, and register the DataFrame as a table.\n",
    "schemaPeople = spark.createDataFrame(people)\n",
    "schemaPeople.createOrReplaceTempView(\"people\")\n",
    "# SQL can be run over DataFrames that have been registered as a table.\n",
    "teenagers = spark.sql(\"SELECT name FROM people WHERE age >= 13 AND age <= 19\")\n",
    "# The results of SQL queries are Dataframe objects.\n",
    "# rdd returns the content as an :class:`pyspark.RDD` of :class:`Row`.\n",
    "teenNames = teenagers.rdd.map(lambda p: \"Name: \" + p.name).collect()\n",
    "for name in teenNames:\n",
    "    print(name)"
   ]
  },
  {
   "cell_type": "markdown",
   "metadata": {},
   "source": [
    "<h3>Programmatically Specifying the Schema</h3>\n",
    "<p>When case classes cannot be defined ahead of time (for example,the structure of records is encoded in a string, or a text dataset will be parsed and fields will be projected differently for different users),a <code>DataFrame</code> can be created programmatically with three steps.</p>\n",
    "<ol>\n",
    "  <li>Create an RDD of <code>Row</code>s from the original RDD;</li>\n",
    "  <li>Create the schema represented by a <a  href=\"http://spark.apache.org/docs/latest/api/python/pyspark.sql.html?highlight=structtype#pyspark.sql.types.StructType\" target=\"_blank\"><code>StructType</code></a> matching the structure of\n",
    "<code>Row</code>s in the RDD created in Step 1.</li>\n",
    "  <li>Apply the schema to the RDD of <code>Row</code>s via <a href=\"http://spark.apache.org/docs/latest/api/python/pyspark.sql.html?highlight=createdataframe#pyspark.sql.SparkSession.createDataFrame\" target=\"_blank\"><code>createDataFrame</code></a> method provided by <code>SparkSession</code>.</li>\n",
    "</ol>\n",
    "<p>For example:</p>"
   ]
  },
  {
   "cell_type": "code",
   "execution_count": 13,
   "metadata": {
    "collapsed": false
   },
   "outputs": [
    {
     "name": "stdout",
     "output_type": "stream",
     "text": [
      "fields: [StructField(name,StringType,true), StructField(age,StringType,true)] \n",
      "\n",
      "schema: StructType(List(StructField(name,StringType,true),StructField(age,StringType,true))) \n",
      "\n",
      "+-------+\n",
      "|   name|\n",
      "+-------+\n",
      "|Michael|\n",
      "|   Andy|\n",
      "| Justin|\n",
      "+-------+\n",
      "\n"
     ]
    }
   ],
   "source": [
    "# Import data types\n",
    "from pyspark.sql.types import *\n",
    "# Load a text file and convert each line to a Row.\n",
    "lines = sc.textFile(\"resources/people.txt\")\n",
    "parts = lines.map(lambda line: line.split(\",\"))\n",
    "# Each line is converted to a tuple.\n",
    "people = parts.map(lambda people: (people[0], people[1].strip()))\n",
    "# The schema is encoded in a string.\n",
    "schemaString = \"name age\"\n",
    "fields = [StructField(field_name, StringType(), True) for field_name in schemaString.split()]\n",
    "print(\"fields:\", fields, '\\n')\n",
    "schema = StructType([StructField(\"name\", StringType(), True), StructField(\"age\", StringType(), True)])\n",
    "print(\"schema:\", schema, '\\n')\n",
    "# Apply the schema to the RDD.\n",
    "schemaPeople = spark.createDataFrame(people, schema)\n",
    "# Creates a temporary view using the DataFrame\n",
    "schemaPeople.createOrReplaceTempView(\"people\")\n",
    "# SQL can be run over DataFrames that have been registered as a table.\n",
    "results = spark.sql(\"SELECT name FROM people\")\n",
    "results.show()"
   ]
  },
  {
   "cell_type": "markdown",
   "metadata": {},
   "source": [
    "<h1>Data Sources</h1>\n",
    "\n",
    "<p>Spark SQL supports operating on a variety of data sources through the DataFrame interface.A DataFrame can be operated on using relational transformations and can also be used to create a temporary view.<strong>Registering a DataFrame as a temporary view allows you to run SQL queries over its data</strong>. This section describes the general methods for loading and saving data using the Spark Data Sources and then goes into specific options that are available for the built-in data sources.</p>\n",
    "\n",
    "<h2>Generic Load/Save Functions</h2>\n",
    "\n",
    "<p>In the simplest form, the default data source(<code>parquet</code> <u>unless otherwise configured</u>(除非另外配置) by <code>spark.sql.sources.default</code>) will be used for all operations.</p>"
   ]
  },
  {
   "cell_type": "code",
   "execution_count": 14,
   "metadata": {
    "collapsed": false
   },
   "outputs": [],
   "source": [
    "try:\n",
    "    shutil.rmtree(\"resources/namesAndFavColors.parquet\")\n",
    "except FileNotFoundError:\n",
    "    pass\n",
    "\n",
    "df = spark.read.load(\"resources/users.parquet\")\n",
    "df.select(\"name\",\"favorite_color\").write.save(\"resources/namesAndFavColors.parquet\")"
   ]
  },
  {
   "cell_type": "code",
   "execution_count": 15,
   "metadata": {
    "collapsed": false
   },
   "outputs": [
    {
     "name": "stdout",
     "output_type": "stream",
     "text": [
      "+------+--------------+----------------+\n",
      "|  name|favorite_color|favorite_numbers|\n",
      "+------+--------------+----------------+\n",
      "|Alyssa|          null|  [3, 9, 15, 20]|\n",
      "|   Ben|           red|              []|\n",
      "+------+--------------+----------------+\n",
      "\n"
     ]
    }
   ],
   "source": [
    "df.show()"
   ]
  },
  {
   "cell_type": "markdown",
   "metadata": {},
   "source": [
    "<h3>Manually Specifying Options</h3>\n",
    "\n",
    "<p>You can also manually specify the data source that will be used along with any extra options that you would like to pass to the data source. Data sources are specified by their fully qualified name (i.e., <code>org.apache.spark.sql.parquet</code>), but for built-in sources you can also use their short names (<code>json</code>, <code>parquet</code>, <code>jdbc</code>). <strong>DataFrames loaded from any data source type can be converted into other types using this syntax</strong>.</p>"
   ]
  },
  {
   "cell_type": "code",
   "execution_count": 16,
   "metadata": {
    "collapsed": false
   },
   "outputs": [],
   "source": [
    "try:\n",
    "    shutil.rmtree(\"resources/namesAndAges.parquet\")\n",
    "except FileNotFoundError:\n",
    "    pass\n",
    "\n",
    "df = spark.read.load(\"resources/people.json\", format=\"json\")\n",
    "df.select(\"name\", \"age\").write.save(\"resources/namesAndAges.parquet\", format=\"parquet\")"
   ]
  },
  {
   "cell_type": "markdown",
   "metadata": {},
   "source": [
    "<h3>Run SQL on files directly</h3>\n",
    "\n",
    "<p>Instead of using read API to load a file into DataFrame and query it, you can also query that file directly with SQL.</p>"
   ]
  },
  {
   "cell_type": "code",
   "execution_count": 17,
   "metadata": {
    "collapsed": false
   },
   "outputs": [
    {
     "name": "stdout",
     "output_type": "stream",
     "text": [
      "+------+--------------+----------------+\n",
      "|  name|favorite_color|favorite_numbers|\n",
      "+------+--------------+----------------+\n",
      "|Alyssa|          null|  [3, 9, 15, 20]|\n",
      "|   Ben|           red|              []|\n",
      "+------+--------------+----------------+\n",
      "\n"
     ]
    }
   ],
   "source": [
    "df = spark.sql(\"SELECT * FROM parquet.`resources/users.parquet`\")\n",
    "df.show()"
   ]
  },
  {
   "cell_type": "markdown",
   "metadata": {},
   "source": [
    "<h3>Save Modes</h3>\n",
    "\n",
    "<p>Save operations can optionally take a <code>SaveMode</code>, that specifies how to handle existing data if\n",
    "present. <font color=\"red\"><strong>It is important to realize that these save modes do not utilize(利用;运用;使用;应用) any locking and are not atomic. Additionally, when performing an <code>Overwrite</code>, the data will be deleted before writing out the new data</strong>.</font></p>\n",
    "\n",
    "<table>\n",
    "<tr><th>Scala/Java</th><th>Any Language</th><th>Meaning</th></tr>\n",
    "<tr>\n",
    "  <td><code>SaveMode.ErrorIfExists</code> (default)</td>\n",
    "  <td><code>\"error\"</code> (default)</td>\n",
    "  <td>\n",
    "    When saving a DataFrame to a data source, if data already exists,an exception is expected to be thrown.\n",
    "  </td>\n",
    "</tr>\n",
    "<tr>\n",
    "  <td><code>SaveMode.Append</code></td>\n",
    "  <td><code>\"append\"</code></td>\n",
    "  <td>\n",
    "    When saving a DataFrame to a data source, if data/table already exists,contents of the DataFrame are expected to be appended to existing data.\n",
    "  </td>\n",
    "</tr>\n",
    "<tr>\n",
    "  <td><code>SaveMode.Overwrite</code></td>\n",
    "  <td><code>\"overwrite\"</code></td>\n",
    "  <td>\n",
    "    Overwrite mode means that when saving a DataFrame to a data source,if data/table already exists, existing data is expected to be overwritten by the contents of the DataFrame.\n",
    "  </td>\n",
    "</tr>\n",
    "<tr>\n",
    "  <td><code>SaveMode.Ignore</code></td>\n",
    "  <td><code>\"ignore\"</code></td>\n",
    "  <td>\n",
    "    Ignore mode means that when saving a DataFrame to a data source, if data already exists,the save operation is expected to not save the contents of the DataFrame and to not change the existing data. This is similar to a <code>CREATE TABLE IF NOT EXISTS</code> in SQL.\n",
    "  </td>\n",
    "</tr>\n",
    "</table>\n",
    "\n",
    "<h3>Saving to Persistent Tables</h3>\n",
    "\n",
    "<p><code>DataFrames</code> can also be saved as persistent tables into Hive metastore using the <strong><code>saveAsTable</code></strong>\n",
    "command. Notice existing Hive deployment is not necessary to use this feature. Spark will create a default local Hive metastore (using Derby) for you. Unlike the <strong><code>createOrReplaceTempView</code></strong> command,<strong><code>saveAsTable</code></strong> will materialize(实现) the contents of the DataFrame and create a pointer to the data in the Hive metastore. Persistent tables will still exist even after your Spark program has restarted, as long as you maintain your connection to the same metastore. A DataFrame for a persistent table can be created by calling the <strong><code>table</code></strong> method on a <strong><code>SparkSession</code></strong> with the name of the table.</p>\n",
    "\n",
    "<p>By default <strong><code>saveAsTable</code></strong> will create a &#8220;managed table&#8221;, meaning that the location of the data will be controlled by the metastore. Managed tables will also have their data deleted automatically when a table is dropped.</p>\n",
    "<p>在Hive上有两种类型的表，一种是Managed Table，另一种是External Table。它俩的主要区别在于：当我们drop表时，Managed Table会同时删去data和meta data，而External Table只会删meta data。</p>\n",
    "<h2>Parquet Files</h2>\n",
    "\n",
    "<p><a href=\"http://parquet.io\">Parquet</a> is a columnar format that is supported by many other data processing systems.Spark SQL provides support for both reading and writing Parquet files that automatically preserves(保留；保护；保存；维护) the schema of the original data. When writing Parquet files, all columns are automatically converted to be nullable(允许空值) for compatibility reasons(出于兼容方面的考虑).</p>\n",
    "\n",
    "<h3>Loading Data Programmatically</h3>\n",
    "\n",
    "<p>Using the data from the above example:</p>"
   ]
  },
  {
   "cell_type": "code",
   "execution_count": 18,
   "metadata": {
    "collapsed": false
   },
   "outputs": [
    {
     "name": "stdout",
     "output_type": "stream",
     "text": [
      "+------+\n",
      "|  name|\n",
      "+------+\n",
      "|Justin|\n",
      "+------+\n",
      "\n"
     ]
    }
   ],
   "source": [
    "try:\n",
    "    shutil.rmtree(\"resources/people.parquet\")\n",
    "except FileNotFoundError:\n",
    "    pass\n",
    "\n",
    "peopleDF = spark.read.json(\"resources/people.json\")\n",
    "\n",
    "# DataFrames can be saved as Parquet files, maintaining the schema information.\n",
    "peopleDF.write.parquet(\"resources/people.parquet\")\n",
    "\n",
    "# Read in the Parquet file created above.\n",
    "# Parquet files are self-describing so the schema is preserved.\n",
    "# The result of loading a parquet file is also a DataFrame.\n",
    "parquetFile = spark.read.parquet(\"resources/people.parquet\")\n",
    "# Parquet files can also be used to create a temporary view and then used in SQL statements.\n",
    "parquetFile.createOrReplaceTempView(\"parquetFile\")\n",
    "teenagers = spark.sql(\"SELECT name FROM parquetFile WHERE age >= 13 AND age <= 19\")\n",
    "teenagers.show()"
   ]
  },
  {
   "cell_type": "markdown",
   "metadata": {},
   "source": [
    "<p>Parquet是面向分析型业务的列式存储格式,对于优化『关系型数据库上的分析任务』，列式存储(Columnar Storage)是个比较流行的技术。我们的目标是，对于一个查询，尽量只读取对这个查询有用的数据，以此来让磁盘IO最小，做到了『指哪打哪』，也就是遍历（scan）一个数据集的时候，如果只读取部分列，那么读取时间也相应会缩短，时间缩短的比例就是那几列的数据量占全部列数据量的比例.原理很简单，就是不采用传统的按行存储，而是连续存储一列的数据. 如果数据是扁平的（比如二维表形式），那列改成按列存储毫无难度，处理嵌套的数据结构才是真正的挑战.开源项目 Parquet 是 Hadoop 上的一种支持列式存储文件格式，起初只是 Twitter 和 Coudera 在合作开发，发展到现在已经有包括 Criteo公司 在内的许多其他贡献者了.</p>\n",
    "<p>何谓列式存储？看下面的例子，这就是三个列 A B C.</p>\n",
    "<img src=\"SparkMLlib/imgs/Parquet_01.png\">\n",
    "<p>如果把它换成行式存储的，那么数据就是一行挨着一行存储的:</p>\n",
    "<img src=\"SparkMLlib/imgs/Parquet_02.png\">\n",
    "<p>按列存，有几个好处：</p>\n",
    "<ul>\n",
    "  <li>可以跳过不符合条件的数据，只读取需要的数据，降低IO数据量.</li>\n",
    "  <li>只读取需要的列，支持向量运算，能够获取更好的扫描性能.</li>\n",
    "  <li>按列存，能够更好地压缩数据，因为一列的数据一般都是同质的（homogenous）. 对于hadoop集群来说，空间节省非常可观.</li>\n",
    "  <li>I/O 会大大减少，因为扫描（遍历/scan）的时候，可以只读其中部分列. 而且由于数据压缩的更好的缘故，IO所需带宽也会减小.</li>\n",
    "  <li>由于每列存的数据类型是相同的，we can use encodings better suited to the modern processors’ pipeline by making instruction branching more predictable.</li>\n",
    "</ul>\n",
    "<p>更多详情请点击<a href=\"http://lastorder.me/tag/parquet.html\" target=\"_blank\">这里</a>以及<a href=\"http://www.infoq.com/cn/articles/in-depth-analysis-of-parquet-column-storage-format/\" target=\"_blank\">这里</a>。</p>"
   ]
  },
  {
   "cell_type": "markdown",
   "metadata": {},
   "source": [
    "<h3>Partition Discovery(解析分区信息)</h3>\n",
    "<p>Table partitioning(表分区) is a common optimization approach(优化方法) used in systems like Hive. In a partitioned table(分区表), data are usually stored in different directories, with partitioning column values encoded(编码) in the path of each partition directory. The Parquet data source is now able to discover and infer partitioning information automatically. For example, we can store all our previously used population data into a partitioned table using the following directory structure, with two extra columns, <code>gender</code>(性别) and <code>country</code>(国家) as partitioning columns:</p>\n",
    "<p>类似hive的分区表，在分区表中数据会分开存储在不同的文件夹，区分的标准是分区字段，现在parquet的数据源可以自动的发现分区信息.</p>\n",
    "<pre><strong>path\n",
    "└── to\n",
    "    └── table\n",
    "        ├── gender=male\n",
    "        │   ├── ...\n",
    "        │   │\n",
    "        │   ├── country=US\n",
    "        │   │   └── data.parquet\n",
    "        │   ├── country=CN\n",
    "        │   │   └── data.parquet\n",
    "        │   └── ...\n",
    "        └── gender=female\n",
    "            ├── ...\n",
    "            │\n",
    "            ├── country=US\n",
    "            │   └── data.parquet\n",
    "            ├── country=CN\n",
    "            │   └── data.parquet\n",
    "            └── ...</strong></pre>\n",
    "<p>By passing <strong>path/to/table</strong> to either <strong>SparkSession.read.parquet</strong> or <strong>SparkSession.read.load</strong>, Spark SQL will automatically extract the partitioning information from the paths.Now the schema of the returned DataFrame becomes:</p>\n",
    "<p>通过传递<strong>path/to/table</strong>给<strong>SparkSession.read.parquet</strong>或<strong>SparkSession.read.load</strong>，Spark SQL将自动解析分区信息。返回的DataFrame的Schema如下：</p>\n",
    "<pre><strong>root\n",
    "|-- name: string (nullable = true)\n",
    "|-- age: long (nullable = true)\n",
    "|-- gender: string (nullable = true)\n",
    "|-- country: string (nullable = true)</strong></pre>\n",
    "<p>Notice that the data types of the partitioning columns are automatically inferred. Currently, numeric data types and string type are supported. Sometimes users may not want to automatically infer the data types of the partitioning columns. For these use cases, the automatic type inference can be configured by <strong>spark.sql.sources.partitionColumnTypeInference.enabled</strong>, which is default to <strong>true</strong>. When type inference is disabled, string type will be used for the partitioning columns.</p>\n",
    "<p>需要注意的是，数据的分区列的数据类型是自动解析的。当前，支持数值类型和字符串类型。自动解析分区类型的参数为：<strong>spark.sql.sources.partitionColumnTypeInference.enabled</strong>，默认值为true。如果想关闭该功能，直接将该参数设置为disabled。此时，分区列数据格式将被默认设置为string类型，不再进行类型解析。</p>\n",
    "<p>Starting from Spark 1.6.0, partition discovery only finds partitions under the given paths by default. For the above example, if users pass <strong>path/to/table/gender=male</strong> to either <strong>SparkSession.read.parquet</strong> or <strong>SparkSession.read.load</strong>, <strong>gender</strong> will not be considered as a partitioning column. If users need to specify the base path that partition discovery should start with, they can set <strong>basePath</strong> in the data source options. For example, when <strong>path/to/table/gender=male</strong> is the path of the data and users set <strong>basePath</strong> to <strong>path/to/table/</strong>, <strong>gender</strong> will be a partitioning column.</p>\n",
    "<p>从1.6版本开始，如果用了分区路径，那么会丢失用于分区路径的那个字段，只能通过basedir拿到，而把分区属性变成分区字段.</p>"
   ]
  },
  {
   "cell_type": "code",
   "execution_count": 19,
   "metadata": {
    "collapsed": false
   },
   "outputs": [
    {
     "name": "stdout",
     "output_type": "stream",
     "text": [
      "+----+-------+\n",
      "| age|   name|\n",
      "+----+-------+\n",
      "|null|Michael|\n",
      "|  30|   Andy|\n",
      "|  19| Justin|\n",
      "+----+-------+\n",
      "\n"
     ]
    }
   ],
   "source": [
    "spark.read.parquet(\"resources/people.parquet\").show()"
   ]
  },
  {
   "cell_type": "markdown",
   "metadata": {},
   "source": [
    "<dl>\n",
    "<a href=\"http://spark.apache.org/docs/latest/api/python/pyspark.sql.html?highlight=partitionby#pyspark.sql.DataFrameWriter.partitionBy\" target=\"_blank\">\n",
    "<dt>\n",
    "<tt>partitionBy</tt><big>(</big><em>*cols</em><big>)</big></dt></a>\n",
    "<dd><p>Partitions the output by the given columns on the file system.</p>\n",
    "<p>If specified, the output is laid out on the file system similar\n",
    "to Hive’s partitioning scheme.</p>\n",
    "<table rules=\"none\">\n",
    "<colgroup><col class=\"field-name\">\n",
    "<col class=\"field-body\">\n",
    "</colgroup><tbody valign=\"top\">\n",
    "<tr class=\"field-odd field\"><th class=\"field-name\">Parameters:</th><td class=\"field-body\"><strong>cols</strong> – name of columns</td>\n",
    "</tr>\n",
    "</tbody>\n",
    "</table>\n",
    "<div class=\"highlight-python\"><div class=\"highlight\"><pre><span class=\"gp\">&gt;&gt;&gt; </span><span class=\"n\">df</span><span class=\"o\">.</span><span class=\"n\">write</span><span class=\"o\">.</span><span class=\"n\"><span class=\"highlighted\">partitionBy</span></span><span class=\"p\">(</span><span class=\"s\">'year'</span><span class=\"p\">,</span> <span class=\"s\">'month'</span><span class=\"p\">)</span><span class=\"o\">.</span><span class=\"n\">parquet</span><span class=\"p\">(</span><span class=\"n\">os</span><span class=\"o\">.</span><span class=\"n\">path</span><span class=\"o\">.</span><span class=\"n\">join</span><span class=\"p\">(</span><span class=\"n\">tempfile</span><span class=\"o\">.</span><span class=\"n\">mkdtemp</span><span class=\"p\">(),</span> <span class=\"s\">'data'</span><span class=\"p\">))</span>\n",
    "</pre></div>\n",
    "</div>\n",
    "</dd></dl>\n",
    "<p>从这个函数我们可以看出按照我们给出的字段完成了一个partition的过程，接受一个多参数的字段列表.</p>\n",
    "<font color=\"red\">关于Partition Discovery更多详情请参考<a href=\"http://blog.csdn.net/cjuexuan/article/details/51165310\" target=\"_blank\">这篇博文</a>。</font>"
   ]
  },
  {
   "cell_type": "code",
   "execution_count": 20,
   "metadata": {
    "collapsed": false
   },
   "outputs": [],
   "source": [
    "try:\n",
    "    shutil.rmtree(\"resources/peoplePartitionBy.parquet\")\n",
    "except FileNotFoundError:\n",
    "    pass\n",
    "\n",
    "spark.read.json(\"resources/people.json\").write.partitionBy(\"name\").parquet(\"resources/peoplePartitionBy.parquet\")"
   ]
  },
  {
   "cell_type": "markdown",
   "metadata": {},
   "source": [
    "<h3>查看输出路径下的目录：</h3>\n",
    "<pre><code >_SUCCESS      name=Michael        name=Justin        name=Andy</code></pre>\n",
    "\n",
    "<p>我们可以发现按照我们的分区规则，在输出路径上建立了三个文件夹，分别为name=Michael,name=Justin,name=Andy</p>\n",
    "<h3>读取：</h3>"
   ]
  },
  {
   "cell_type": "code",
   "execution_count": 21,
   "metadata": {
    "collapsed": false
   },
   "outputs": [
    {
     "name": "stdout",
     "output_type": "stream",
     "text": [
      "+---+\n",
      "|age|\n",
      "+---+\n",
      "| 30|\n",
      "+---+\n",
      "\n"
     ]
    }
   ],
   "source": [
    "spark.read.parquet(\"resources/peoplePartitionBy.parquet/name=Andy\").show()"
   ]
  },
  {
   "cell_type": "code",
   "execution_count": 22,
   "metadata": {
    "collapsed": false
   },
   "outputs": [
    {
     "name": "stdout",
     "output_type": "stream",
     "text": [
      "+----+\n",
      "| age|\n",
      "+----+\n",
      "|null|\n",
      "+----+\n",
      "\n"
     ]
    }
   ],
   "source": [
    "spark.read.parquet(\"resources/peoplePartitionBy.parquet/name=Michael\").show()"
   ]
  },
  {
   "cell_type": "code",
   "execution_count": 23,
   "metadata": {
    "collapsed": false
   },
   "outputs": [
    {
     "name": "stdout",
     "output_type": "stream",
     "text": [
      "+---+\n",
      "|age|\n",
      "+---+\n",
      "| 19|\n",
      "+---+\n",
      "\n"
     ]
    }
   ],
   "source": [
    "spark.read.parquet(\"resources/peoplePartitionBy.parquet/name=Justin\").show()"
   ]
  },
  {
   "cell_type": "code",
   "execution_count": 24,
   "metadata": {
    "collapsed": false
   },
   "outputs": [
    {
     "name": "stdout",
     "output_type": "stream",
     "text": [
      "+----+-------+\n",
      "| age|   name|\n",
      "+----+-------+\n",
      "|  30|   Andy|\n",
      "|  19| Justin|\n",
      "|null|Michael|\n",
      "+----+-------+\n",
      "\n"
     ]
    }
   ],
   "source": [
    "spark.read.parquet(\"resources/peoplePartitionBy.parquet\").show()"
   ]
  },
  {
   "cell_type": "markdown",
   "metadata": {},
   "source": [
    "<dl>\n",
    "<dt>\n",
    "<tt>filter</tt><big>(</big><em>condition</em><big>)</big><a href=\"http://spark.apache.org/docs/latest/api/python/pyspark.sql.html?highlight=filter#pyspark.sql.DataFrame.filter\" target=\"_blank\">¶</a></dt>\n",
    "<dd><p>Filters rows using the given condition.</p>\n",
    "<p><a href=\"http://spark.apache.org/docs/latest/api/python/pyspark.sql.html?highlight=filter#pyspark.sql.DataFrame.where\"><tt>where()</tt></a> is an alias for <a href=\"http://spark.apache.org/docs/latest/api/python/pyspark.sql.html?highlight=filter#pyspark.sql.DataFrame.filter\"><tt>filter()</tt></a>.</p>\n",
    "<table frame=\"void\" rules=\"none\">\n",
    "<colgroup><col>\n",
    "<col>\n",
    "</colgroup><tbody valign=\"top\">\n",
    "<tr><th>Parameters:</th><td><strong>condition</strong> – a <a  href=\"http://spark.apache.org/docs/latest/api/python/pyspark.sql.html?highlight=filter#pyspark.sql.Column\" ><tt>Column</tt></a> of <a href=\"http://spark.apache.org/docs/latest/api/python/pyspark.sql.html?highlight=filter#pyspark.sql.types.BooleanType\" ><tt>types.BooleanType</tt></a>\n",
    "or a string of SQL expression.</td>\n",
    "</tr>\n",
    "</tbody>\n",
    "</table>\n",
    "<pre>&gt;&gt;&gt; df.filter(.age&gt;3).collect()\n",
    "[Row(age=5, name=u'Bob')]\n",
    "&gt;&gt;&gt; df.where(df.age==2).collect()\n",
    "[Row(age=2, name=u'Alice')]\n",
    "</pre>\n",
    "<pre>&gt;&gt;&gt; df.filter(\"age &gt; 3\").collect()\n",
    "[Row(age=5, name=u'Bob')]\n",
    "&gt;&gt;&gt; df.where(\"age = 2\").collect()\n",
    "[Row(age=2, name=u'Alice')]\n",
    "</pre>\n",
    "</dd></dl>"
   ]
  },
  {
   "cell_type": "code",
   "execution_count": 25,
   "metadata": {
    "collapsed": false
   },
   "outputs": [
    {
     "data": {
      "text/plain": [
       "[Row(age=30, name='Andy')]"
      ]
     },
     "execution_count": 25,
     "metadata": {},
     "output_type": "execute_result"
    }
   ],
   "source": [
    "df = spark.read.parquet(\"resources/peoplePartitionBy.parquet\")\n",
    "df.filter(df.name == \"Andy\").collect()"
   ]
  },
  {
   "cell_type": "code",
   "execution_count": 26,
   "metadata": {
    "collapsed": false
   },
   "outputs": [
    {
     "name": "stdout",
     "output_type": "stream",
     "text": [
      "+---+----+\n",
      "|age|name|\n",
      "+---+----+\n",
      "| 30|Andy|\n",
      "+---+----+\n",
      "\n"
     ]
    }
   ],
   "source": [
    "spark.read.parquet(\"resources/peoplePartitionBy.parquet\").filter('name=\"Andy\"').show()"
   ]
  },
  {
   "cell_type": "markdown",
   "metadata": {},
   "source": [
    "<h3>Schema Merging</h3>\n",
    "<p>Like ProtocolBuffer, Avro, and Thrift, Parquet also supports schema evolution(演变; 进化; 发展;). Users can start with a simple schema, and gradually add more columns to the schema as needed. In this way, users may end up with multiple Parquet files with different but mutually compatible(相互兼容) schemas. The Parquet data source is now able to automatically detect this case and merge schemas of all these files.</p>\n",
    "\n",
    "<p>Since schema merging is a relatively `expensive operation`, and is not a necessity in most cases, we turned it off by default starting from 1.5.0. You may enable it by</p>\n",
    "<ol>\n",
    "  <li>setting data source <font color=\"red\">option</font> <strong>mergeSchema</strong> to <code>true</code> when reading Parquet files (as shown in the examples below), or</li>\n",
    "  <li>setting the global SQL option <strong>`spark.sql.parquet.mergeSchema`</strong> to <code>true</code>.</li>\n",
    "</ol>"
   ]
  },
  {
   "cell_type": "code",
   "execution_count": 27,
   "metadata": {
    "collapsed": false
   },
   "outputs": [
    {
     "name": "stdout",
     "output_type": "stream",
     "text": [
      "root\n",
      " |-- double: long (nullable = true)\n",
      " |-- single: long (nullable = true)\n",
      " |-- triple: long (nullable = true)\n",
      " |-- key: integer (nullable = true)\n",
      "\n"
     ]
    }
   ],
   "source": [
    "import os\n",
    "\n",
    "if os.path.exists(\"data/test_table\") == False:\n",
    "    os.makedirs(\"data/test_table\")\n",
    "\n",
    "try:\n",
    "    shutil.rmtree(\"data/test_table\")\n",
    "except FileNotFoundError:\n",
    "    pass\n",
    "\n",
    "# Create a simple DataFrame, stored into a partition directory\n",
    "squaresDF = spark.createDataFrame(sc.parallelize(range(1, 6)).map(lambda i: Row(single=i, double=i ** 2)))\n",
    "squaresDF.write.parquet(\"data/test_table/key=1\")\n",
    "# Create another DataFrame in a new partition directory,\n",
    "# adding a new column and dropping an existing column\n",
    "cubesDF = spark.createDataFrame(sc.parallelize(range(6, 11)).map(lambda i: Row(single=i, triple=i ** 3)))\n",
    "cubesDF.write.parquet(\"data/test_table/key=2\")\n",
    "# Read the partitioned table\n",
    "mergedDF = spark.read.option(\"mergeSchema\", 'true').parquet(\"data/test_table\")\n",
    "mergedDF.printSchema()\n",
    "# The final schema consists of all 3 columns in the Parquet files together\n",
    "# with the partitioning column appeared in the partition directory paths.\n",
    "# root\n",
    "#  |-- double: long (nullable = true)\n",
    "#  |-- single: long (nullable = true)\n",
    "#  |-- triple: long (nullable = true)\n",
    "#  |-- key: integer (nullable = true)"
   ]
  },
  {
   "cell_type": "markdown",
   "metadata": {},
   "source": [
    "<h3>Hive metastore Parquet table conversion</h3>\n",
    "\n",
    "<p>When reading from and writing to Hive metastore Parquet tables, Spark SQL will try to use its own Parquet support instead of Hive SerDe(Serialize/Deserilize的简称,目的是用于序列化和反序列化.) for better performance. This behavior is controlled by the <strong>spark.sql.hive.convertMetastoreParquet</strong> configuration, and is turned on by default.</p>\n",
    "\n",
    "<h4>Hive/Parquet Schema Reconciliation(一致化)</h4>\n",
    "<p>There are two key differences between Hive and Parquet from the perspective(角度) of table schema processing.</p>\n",
    "<ol>\n",
    "  <li>Hive is case insensitive, while Parquet is not(Hive区分大小写，Parquet不区分大小写)</li>\n",
    "  <li>Hive considers all columns nullable(允许为空,可空类型), while nullability(空属性) in Parquet is significant</li>\n",
    "</ol>\n",
    "<p>Due to this reason, we must reconcile(兼顾:使和谐一致;调和;使配合) Hive metastore schema with Parquet schema when converting a Hive metastore Parquet table to a Spark SQL Parquet table. The reconciliation rules are:</p>\n",
    "<ol>\n",
    "  <li>\n",
    "    <p>Fields that have the same name in both schema must have the same data type regardless of nullability(空属性). The reconciled field should have the data type of the Parquet side, so that nullability is respected.</p>\n",
    "  </li>\n",
    "  <li>\n",
    "    <p>The reconciled schema contains exactly those fields defined in Hive metastore schema.</p>\n",
    "    <ul>\n",
    "      <li>Any fields that only appear in the Parquet schema are dropped in the reconciled schema.\n",
    "      </li>\n",
    "      <li>Any fields that only appear in the Hive metastore schema are added as nullable field in the reconciled schema.\n",
    "      </li>\n",
    "    </ul>\n",
    "  </li>\n",
    "</ol>\n",
    "\n",
    "<h4>Metadata Refreshing</h4>\n",
    "<p>Spark SQL caches Parquet metadata for better performance. When Hive metastore Parquet table conversion is enabled, metadata of those converted tables are also cached. If these tables are updated by Hive or other external tools, you need to refresh them manually to ensure consistent metadata.</p>"
   ]
  },
  {
   "cell_type": "code",
   "execution_count": 28,
   "metadata": {
    "collapsed": false
   },
   "outputs": [],
   "source": [
    "#spark.catalog.refreshTable(\"my_table\")"
   ]
  },
  {
   "cell_type": "markdown",
   "metadata": {},
   "source": [
    "<h3>Configuration</h3>\n",
    "\n",
    "<p>Configuration of Parquet can be done using the <a href=\"http://spark.apache.org/docs/latest/api/python/pyspark.sql.html?highlight=setconf#pyspark.sql.SQLContext.setConf\" target=\"_blank\"><code>setConf</code></a> method on <a href=\"http://spark.apache.org/docs/latest/api/python/pyspark.sql.html?highlight=setconf#pyspark.sql.SparkSession\" target=\"_blank\"><code>SparkSession</code></a> or by running <code>SET key=value</code> commands using SQL.</p>\n",
    "\n",
    "<table>\n",
    "<tr><th>Property Name</th><th>Default</th><th>Meaning</th></tr>\n",
    "<tr>\n",
    "  <td><code>spark.sql.parquet.binaryAsString</code></td>\n",
    "  <td>false</td>\n",
    "  <td>\n",
    "    Some other Parquet-producing systems, in particular Impala, Hive, and older versions of Spark SQL, do not differentiate between binary data and strings when writing out the Parquet schema. This flag tells Spark SQL to interpret binary data as a string to provide compatibility with these systems.\n",
    "  </td>\n",
    "</tr>\n",
    "<tr>\n",
    "  <td><code>spark.sql.parquet.int96AsTimestamp</code></td>\n",
    "  <td>true</td>\n",
    "  <td>\n",
    "    Some Parquet-producing systems, in particular Impala and Hive, store Timestamp into INT96. This flag tells Spark SQL to interpret INT96 data as a timestamp to provide compatibility with these systems.\n",
    "  </td>\n",
    "</tr>\n",
    "<tr>\n",
    "  <td><code>spark.sql.parquet.cacheMetadata</code></td>\n",
    "  <td>true</td>\n",
    "  <td>\n",
    "    Turns on caching of Parquet schema metadata. Can speed up querying of static data.\n",
    "  </td>\n",
    "</tr>\n",
    "<tr>\n",
    "  <td><code>spark.sql.parquet.compression.codec</code></td>\n",
    "  <td>snappy</td>\n",
    "  <td>\n",
    "    Sets the compression codec use when writing Parquet files. Acceptable values include:uncompressed, snappy, gzip, lzo.\n",
    "  </td>\n",
    "</tr>\n",
    "<tr>\n",
    "  <td><code>spark.sql.parquet.filterPushdown</code></td>\n",
    "  <td>true</td>\n",
    "  <td>Enables Parquet filter push-down optimization when set to true.</td>\n",
    "</tr>\n",
    "<tr>\n",
    "  <td><code>spark.sql.hive.convertMetastoreParquet</code></td>\n",
    "  <td>true</td>\n",
    "  <td>\n",
    "    When set to false, Spark SQL will use the Hive SerDe for parquet tables instead of the built in support.\n",
    "  </td>\n",
    "</tr>\n",
    "<tr>\n",
    "  <td><code>spark.sql.parquet.mergeSchema</code></td>\n",
    "  <td>false</td>\n",
    "  <td>\n",
    "    <p>\n",
    "      When true, the Parquet data source merges schemas collected from all data files, otherwise the schema is picked from the summary file or a random data file if no summary file is available.\n",
    "    </p>\n",
    "  </td>\n",
    "</tr>\n",
    "</table>"
   ]
  },
  {
   "cell_type": "markdown",
   "metadata": {},
   "source": [
    "<h2>JSON Datasets</h2>\n",
    "<p>Spark SQL can automatically infer the schema of a JSON dataset and load it as a DataFrame.This conversion can be done using <a href=\"http://spark.apache.org/docs/latest/api/python/pyspark.sql.html?highlight=json#pyspark.sql.DataFrameReader.json\" target=\"_blank\"><code>SparkSession.read.json</code></a> on a JSON file.</p>\n",
    "<p>Note that the file that is offered as <em>a json file</em> is not a typical JSON file. Each line must contain a separate, self-contained valid JSON object. As a consequence(因而,结果),a regular multi-line JSON file will most often fail.</p>"
   ]
  },
  {
   "cell_type": "code",
   "execution_count": 29,
   "metadata": {
    "collapsed": false
   },
   "outputs": [
    {
     "name": "stdout",
     "output_type": "stream",
     "text": [
      "root\n",
      " |-- age: long (nullable = true)\n",
      " |-- name: string (nullable = true)\n",
      "\n"
     ]
    }
   ],
   "source": [
    "peopleDF = spark.read.json('resources/people.json')\n",
    "peopleDF.printSchema()"
   ]
  },
  {
   "cell_type": "code",
   "execution_count": 30,
   "metadata": {
    "collapsed": false
   },
   "outputs": [
    {
     "name": "stdout",
     "output_type": "stream",
     "text": [
      "+------+\n",
      "|  name|\n",
      "+------+\n",
      "|Justin|\n",
      "+------+\n",
      "\n"
     ]
    }
   ],
   "source": [
    "# Creates a temporary view using the DataFrame\n",
    "peopleDF.createOrReplaceTempView(\"people\")\n",
    "# SQL statements can be run by using the sql methods provided by spark\n",
    "teenagerNamesDF = spark.sql(\"SELECT name FROM people WHERE age BETWEEN 13 AND 19\")\n",
    "teenagerNamesDF.show()"
   ]
  },
  {
   "cell_type": "code",
   "execution_count": 31,
   "metadata": {
    "collapsed": false
   },
   "outputs": [
    {
     "name": "stdout",
     "output_type": "stream",
     "text": [
      "+---------------+----+\n",
      "|        address|name|\n",
      "+---------------+----+\n",
      "|[Columbus,Ohio]| Yin|\n",
      "+---------------+----+\n",
      "\n"
     ]
    }
   ],
   "source": [
    "# Alternatively, a DataFrame can be created for a JSON dataset represented by\n",
    "# an RDD[String] storing one JSON object per string\n",
    "jsonStrings = ['{\"name\":\"Yin\",\"address\":{\"city\":\"Columbus\",\"state\":\"Ohio\"}}']\n",
    "otherPeopleRDD = sc.parallelize(jsonStrings)\n",
    "otherPeople = spark.read.json(otherPeopleRDD)\n",
    "otherPeople.show()"
   ]
  },
  {
   "cell_type": "code",
   "execution_count": 32,
   "metadata": {
    "collapsed": false
   },
   "outputs": [
    {
     "data": {
      "text/plain": [
       "['{\"name\":\"Yin\",\"address\":{\"city\":\"Columbus\",\"state\":\"Ohio\"}}']"
      ]
     },
     "execution_count": 32,
     "metadata": {},
     "output_type": "execute_result"
    }
   ],
   "source": [
    "otherPeopleRDD.collect()"
   ]
  },
  {
   "cell_type": "markdown",
   "metadata": {},
   "source": [
    "<h2>Hive Tables</h2>\n",
    "\n",
    "<p>Spark SQL also supports reading and writing data stored in <a href=\"http://hive.apache.org/\">Apache Hive</a>.\n",
    "However, since Hive has a large number of dependencies, these dependencies are not included in the default Spark distribution. If Hive dependencies can be found on the classpath, Spark will load them automatically. Note that these Hive dependencies must also be present on all of the worker nodes, as they will need access to the Hive serialization and deserialization libraries (SerDes) in order to access data stored in Hive.</p>\n",
    "\n",
    "<p>Configuration of Hive is done by placing your <strong>hive-site.xml</strong>, <strong>core-site.xml</strong> (for security configuration),and <strong>hdfs-site.xml</strong> (for HDFS configuration) file in <code>conf/</code>.</p>\n",
    "\n",
    "<p>When working with Hive, one must instantiate(实例化) <code>SparkSession</code> with Hive support, including connectivity to a persistent Hive metastore, support for Hive SerDes, and Hive user-defined functions. Users who do not have an existing Hive deployment can still enable Hive support. When not configured by the <strong>hive-site.xml</strong>, the context automatically creates <code>metastore_db</code> in the current directory and creates a directory configured by <strong>spark.sql.warehouse.dir</strong>, which defaults to the directory <strong>spark-warehouse</strong> in the current directory that the spark application is started. Note that the <strong>hive.metastore.warehouse.dir</strong> property in <strong>hive-site.xml</strong> is deprecated(不赞成) since Spark 2.0.0. Instead, use <strong>spark.sql.warehouse.dir</strong> to specify the default location of database in warehouse(仓库).You may need to grant write privilege to the user who starts the spark application.</p>"
   ]
  },
  {
   "cell_type": "code",
   "execution_count": 33,
   "metadata": {
    "collapsed": false
   },
   "outputs": [
    {
     "name": "stdout",
     "output_type": "stream",
     "text": [
      "+---+-------+\n",
      "|key|  value|\n",
      "+---+-------+\n",
      "|238|val_238|\n",
      "| 86| val_86|\n",
      "|311|val_311|\n",
      "| 27| val_27|\n",
      "|165|val_165|\n",
      "|409|val_409|\n",
      "|255|val_255|\n",
      "|278|val_278|\n",
      "| 98| val_98|\n",
      "|484|val_484|\n",
      "|265|val_265|\n",
      "|193|val_193|\n",
      "|401|val_401|\n",
      "|150|val_150|\n",
      "|273|val_273|\n",
      "|224|val_224|\n",
      "|369|val_369|\n",
      "| 66| val_66|\n",
      "|128|val_128|\n",
      "|213|val_213|\n",
      "+---+-------+\n",
      "only showing top 20 rows\n",
      "\n"
     ]
    }
   ],
   "source": [
    "from os.path import expanduser, join\n",
    "\n",
    "# warehouse_location points to the default location for managed databases and tables\n",
    "warehouse_location = 'file:${system:user.dir}/spark-warehouse'\n",
    "\n",
    "spark = SparkSession \\\n",
    "        .builder \\\n",
    "        .appName(\"Python Spark SQL HIVE integration example\") \\\n",
    "        .config(\"spark.sql.warehouse.dir\", warehouse_location) \\\n",
    "        .enableHiveSupport()\\\n",
    "        .getOrCreate()\n",
    "# spark is an existing SparkSession        \n",
    "spark.sql(\"CREATE TABLE IF NOT EXISTS src(key INT, value STRING)\")\n",
    "spark.sql(\"LOAD DATA LOCAL INPATH 'resources/kv1.txt' INTO TABLE src\")\n",
    "# Queries are expressed in HiveQL\n",
    "spark.sql(\"SELECT * FROM src\").show()"
   ]
  },
  {
   "cell_type": "code",
   "execution_count": 34,
   "metadata": {
    "collapsed": false
   },
   "outputs": [
    {
     "name": "stdout",
     "output_type": "stream",
     "text": [
      "+--------+\n",
      "|count(1)|\n",
      "+--------+\n",
      "|    2000|\n",
      "+--------+\n",
      "\n"
     ]
    }
   ],
   "source": [
    "spark.sql(\"SELECT COUNT(*) FROM src\").show()"
   ]
  },
  {
   "cell_type": "code",
   "execution_count": 35,
   "metadata": {
    "collapsed": false
   },
   "outputs": [
    {
     "name": "stdout",
     "output_type": "stream",
     "text": [
      "Key: 0, Value: val_0\n",
      "Key: 0, Value: val_0\n",
      "Key: 0, Value: val_0\n",
      "Key: 0, Value: val_0\n",
      "Key: 0, Value: val_0\n",
      "Key: 0, Value: val_0\n",
      "Key: 0, Value: val_0\n",
      "Key: 0, Value: val_0\n",
      "Key: 0, Value: val_0\n",
      "Key: 0, Value: val_0\n",
      "Key: 0, Value: val_0\n",
      "Key: 0, Value: val_0\n",
      "Key: 2, Value: val_2\n",
      "Key: 2, Value: val_2\n",
      "Key: 2, Value: val_2\n",
      "Key: 2, Value: val_2\n",
      "Key: 4, Value: val_4\n",
      "Key: 4, Value: val_4\n",
      "Key: 4, Value: val_4\n",
      "Key: 4, Value: val_4\n",
      "Key: 5, Value: val_5\n",
      "Key: 5, Value: val_5\n",
      "Key: 5, Value: val_5\n",
      "Key: 5, Value: val_5\n",
      "Key: 5, Value: val_5\n",
      "Key: 5, Value: val_5\n",
      "Key: 5, Value: val_5\n",
      "Key: 5, Value: val_5\n",
      "Key: 5, Value: val_5\n",
      "Key: 5, Value: val_5\n",
      "Key: 5, Value: val_5\n",
      "Key: 5, Value: val_5\n",
      "Key: 8, Value: val_8\n",
      "Key: 8, Value: val_8\n",
      "Key: 8, Value: val_8\n",
      "Key: 8, Value: val_8\n",
      "Key: 9, Value: val_9\n",
      "Key: 9, Value: val_9\n",
      "Key: 9, Value: val_9\n",
      "Key: 9, Value: val_9\n"
     ]
    }
   ],
   "source": [
    "sqlDF = spark.sql(\"SELECT key, value FROM src WHERE key < 10 ORDER BY key\")\n",
    "\n",
    "# The items in DaraFrames are of type Row, which allows you to access each column by ordinal.\n",
    "stringsDS = sqlDF.rdd.map(lambda row: \"Key: %d, Value: %s\" % (row.key, row.value))\n",
    "for record in stringsDS.collect():\n",
    "    print(record)"
   ]
  },
  {
   "cell_type": "code",
   "execution_count": 36,
   "metadata": {
    "collapsed": false
   },
   "outputs": [
    {
     "name": "stdout",
     "output_type": "stream",
     "text": [
      "+---+-----+---+-----+\n",
      "|key|value|key|value|\n",
      "+---+-----+---+-----+\n",
      "|  2|val_2|  2|val_2|\n",
      "|  2|val_2|  2|val_2|\n",
      "|  2|val_2|  2|val_2|\n",
      "|  2|val_2|  2|val_2|\n",
      "|  4|val_4|  4|val_4|\n",
      "|  4|val_4|  4|val_4|\n",
      "|  4|val_4|  4|val_4|\n",
      "|  4|val_4|  4|val_4|\n",
      "|  5|val_5|  5|val_5|\n",
      "|  5|val_5|  5|val_5|\n",
      "|  5|val_5|  5|val_5|\n",
      "|  5|val_5|  5|val_5|\n",
      "|  5|val_5|  5|val_5|\n",
      "|  5|val_5|  5|val_5|\n",
      "|  5|val_5|  5|val_5|\n",
      "|  5|val_5|  5|val_5|\n",
      "|  5|val_5|  5|val_5|\n",
      "|  5|val_5|  5|val_5|\n",
      "|  5|val_5|  5|val_5|\n",
      "|  5|val_5|  5|val_5|\n",
      "+---+-----+---+-----+\n",
      "only showing top 20 rows\n",
      "\n"
     ]
    }
   ],
   "source": [
    "# You can also use DataFrames to create temporary views within a SparkSession.\n",
    "Record = Row(\"key\", \"value\")\n",
    "recordsDF = spark.createDataFrame(map(lambda i: Record(i, 'val_' + str(i)), range(1, 101)))\n",
    "recordsDF.createOrReplaceTempView(\"records\")\n",
    "# Queries can then join DataFrame data with data stored in Hive.\n",
    "spark.sql(\"SELECT * FROM records r JOIN src s ON r.key = s.key\").show()"
   ]
  },
  {
   "cell_type": "markdown",
   "metadata": {},
   "source": [
    "<h3>Interacting with Different Versions of Hive Metastore</h3>\n",
    "\n",
    "<p>One of the most important pieces of Spark SQL&#8217;s Hive support is interaction with Hive metastore,which enables Spark SQL to access metadata of Hive tables. Starting from Spark 1.4.0, a single binary build of Spark SQL can be used to query different versions of Hive metastores, using the configuration described below.<font color=\"red\">Note that independent of the version of Hive that is being used to talk to the metastore, internally Spark SQL will compile against Hive 1.2.1 and use those classes for internal execution (serdes, UDFs, UDAFs, etc)</font>.</p>\n",
    "\n",
    "<p>The following options can be used to configure the version of Hive that is used to retrieve metadata:</p>\n",
    "<table>\n",
    "  <tr><th>Property Name</th><th>Default</th><th>Meaning</th></tr>\n",
    "  <tr>\n",
    "    <td><code>spark.sql.hive.metastore.version</code></td>\n",
    "    <td><code>1.2.1</code></td>\n",
    "    <td>\n",
    "    Version of the Hive metastore. Available options are <code>0.12.0</code> through <code>1.2.1</code>.\n",
    "    </td>\n",
    "  </tr>\n",
    "  <tr>\n",
    "    <td><code>spark.sql.hive.metastore.jars</code></td>\n",
    "    <td><code>builtin</code></td>\n",
    "    <td>\n",
    "    Location of the jars that should be used to instantiate the HiveMetastoreClient. This property can be one of three options:\n",
    "      <ol>\n",
    "        <li><code>builtin</code></li>\n",
    "        Use Hive 1.2.1, which is bundled with the Spark assembly when <code>-Phive</code> is enabled. When this option is chosen, <code>spark.sql.hive.metastore.version</code> must be either <code>1.2.1</code> or not defined.\n",
    "        <li><code>maven</code></li>\n",
    "        Use Hive jars of specified version downloaded from Maven repositories. This configuration is not generally recommended for production deployments.\n",
    "        <li>A classpath in the standard format for the JVM. This classpath must include all of Hive and its dependencies, including the correct version of Hadoop. These jars only need to be present on the driver, but if you are running in yarn cluster mode then you must ensure they are packaged with you application.</li>\n",
    "      </ol>\n",
    "    </td>\n",
    "  </tr>\n",
    "  <tr>\n",
    "    <td><code>spark.sql.hive.metastore.sharedPrefixes</code></td>\n",
    "    <td><code>com.mysql.jdbc,<br />org.postgresql,<br />com.microsoft.sqlserver,<br />oracle.jdbc</code></td>\n",
    "    <td>\n",
    "      <p>\n",
    "      A comma separated list of class prefixes that should be loaded using the classloader that is shared between Spark SQL and a specific version of Hive. An example of classes that should be shared is JDBC drivers that are needed to talk to the metastore. Other classes that need to be shared are those that interact with classes that are already shared. For example, custom appenders that are used by log4j.\n",
    "      </p>\n",
    "    </td>\n",
    "  </tr>\n",
    "  <tr>\n",
    "    <td><code>spark.sql.hive.metastore.barrierPrefixes</code></td>\n",
    "    <td><code>(empty)</code></td>\n",
    "    <td>\n",
    "      <p>\n",
    "      A comma separated list of class prefixes that should explicitly be reloaded for each version of Hive that Spark SQL is communicating with. For example, Hive UDFs that are declared in a prefix that typically would be shared (i.e. <code>org.apache.spark.*</code>).\n",
    "      </p>\n",
    "    </td>\n",
    "  </tr>\n",
    "</table>"
   ]
  },
  {
   "cell_type": "markdown",
   "metadata": {},
   "source": [
    "<h2>JDBC To Other Databases</h2>\n",
    "\n",
    "<p>Spark SQL also includes a data source that can read data from other databases using JDBC(Java数据库连接Java Database Connectivity). This functionality should be preferred over using <a href=\"http://spark.apache.org/docs/latest/api/scala/index.html#org.apache.spark.rdd.JdbcRDD\">JdbcRDD</a>.This is because the results are returned as a DataFrame and they can easily be processed in Spark SQL or joined with other data sources.The JDBC data source is also easier to use from Java or Python as it does not require the user to provide a ClassTag.(Note that this is different than the Spark SQL JDBC server, which allows other applications to run queries using Spark SQL).</p>\n",
    "\n",
    "<p>To get started you will need to include the JDBC driver for you particular database on the spark classpath. For example, to connect to postgres from the Spark Shell you would run the following command:</p>\n",
    "\n",
    ">bin/spark-shell --driver-class-path postgresql-9.4.1207.jar --jars postgresql-9.4.1207.jar\n",
    "\n",
    "<p>在pyspark中连接mysql：(在mysql官网下载的<a href=\"http://dev.mysql.com/downloads/connector/j/\" target=\"_blank\">mysql-connector-java</a>解压放在/usr/local/路径下)</p>\n",
    "\n",
    ">pyspark --driver-class-path /usr/local/mysql-connector-java-5.0.8/mysql-connector-java-5.0.8-bin.jar --jars /usr/local/mysql-connector-java-5.0.8/mysql-connector-java-5.0.8-bin.jar\n",
    "\n",
    "<p>Tables from the remote database can be loaded as a DataFrame or Spark SQL Temporary table using the Data Sources API. The following options are supported:</p>\n",
    "\n",
    "<table>\n",
    "  <tr><th>Property Name</th><th>Meaning</th></tr>\n",
    "  <tr>\n",
    "    <td><code>url</code></td>\n",
    "    <td>\n",
    "      The <a href=\"http://blog.csdn.net/ring0hx/article/details/6152528\" target=\"_blank\">JDBC URL</a> to connect to.\n",
    "    </td>\n",
    "  </tr>\n",
    "  <tr>\n",
    "    <td><code>dbtable</code></td>\n",
    "    <td>\n",
    "      The JDBC table that should be read. Note that anything that is valid in a <code>FROM</code> clause of\n",
    "      a SQL query can be used. For example, instead of a full table you could also use a\n",
    "      subquery in parentheses.\n",
    "    </td>\n",
    "  </tr>\n",
    "\n",
    "  <tr>\n",
    "    <td><code>driver</code></td>\n",
    "    <td>\n",
    "      The class name of the JDBC driver to use to connect to this URL.\n",
    "    </td>\n",
    "  </tr>\n",
    "\n",
    "  <tr>\n",
    "    <td><code>partitionColumn, lowerBound, upperBound, numPartitions</code></td>\n",
    "    <td>\n",
    "      These options must all be specified if any of them is specified. They describe how to\n",
    "      partition the table when reading in parallel from multiple workers.\n",
    "      <code>partitionColumn</code> must be a numeric column from the table in question. Notice\n",
    "      that <code>lowerBound</code> and <code>upperBound</code> are just used to decide the\n",
    "      partition stride, not for filtering the rows in table. So all rows in the table will be\n",
    "      partitioned and returned.\n",
    "    </td>\n",
    "  </tr>\n",
    "\n",
    "  <tr>\n",
    "    <td><code>fetchsize</code></td>\n",
    "    <td>\n",
    "      The JDBC fetch size, which determines how many rows to fetch per round trip. This can help performance on JDBC drivers which default to low fetch size (eg. Oracle with 10 rows).\n",
    "    </td>\n",
    "  </tr>\n",
    "</table>"
   ]
  },
  {
   "cell_type": "markdown",
   "metadata": {},
   "source": [
    "<font color=\"red\">下面例子已经改成mysql，注意，在mysql中创建spark——test数据库，并在此数据库中创建表people。</font>"
   ]
  },
  {
   "cell_type": "code",
   "execution_count": 55,
   "metadata": {
    "collapsed": false,
    "scrolled": true
   },
   "outputs": [],
   "source": [
    "jdbcDF = spark.read \\\n",
    "    .format(\"jdbc\") \\\n",
    "    .option('url', 'jdbc:mysql://127.0.0.1:3306/spark_test') \\\n",
    "    .option('driver', 'com.mysql.jdbc.Driver') \\\n",
    "    .option(\"dbtable\", \"spark_test.people\") \\\n",
    "    .option(\"user\", \"root\") \\\n",
    "    .option(\"password\", \"2038793\") \\\n",
    "    .load()         "
   ]
  },
  {
   "cell_type": "markdown",
   "metadata": {},
   "source": [
    "<h2>Troubleshooting(故障排除)</h2>\n",
    "\n",
    "<ul>\n",
    "  <li>The JDBC driver class must be visible to the `primordial class loader`(启动类加载器) on the client session and on all executors. This is because Java&#8217;s DriverManager class does a security check that results in it ignoring all drivers not visible to the primordial class loader when one goes to open a connection. One convenient way to do this is to modify compute_classpath.sh on all worker nodes to include your driver JARs.</li>\n",
    "  <li>Some databases, such as H2, convert all names to upper case. You&#8217;ll need to use upper case to refer to those names in Spark SQL.</li>\n",
    "</ul>\n",
    "<h1>Performance Tuning(性能调优)</h1>\n",
    "\n",
    "<p>For some workloads it is possible to improve performance by either caching data in memory, or by turning on some experimental options(试验选项).</p>\n",
    "\n",
    "<h2>Caching Data In Memory(缓存数据至内存)</h2>\n",
    "\n",
    "<p>Spark SQL can cache tables using an in-memory columnar format by calling <a href=\"https://spark.apache.org/docs/latest/api/python/pyspark.sql.html?highlight=cachetable#pyspark.sql.SQLContext.cacheTable\" target=\"_blank\"><code>spark.cacheTable(\"tableName\")</code></a> or <a target=\"_blank\" href=\"https://spark.apache.org/docs/latest/api/python/pyspark.sql.html?highlight=cache#pyspark.sql.DataFrame.cache\"><code>dataFrame.cache()</code></a>.Then Spark SQL will scan only required columns and will automatically tune compression to minimize memory usage and GC pressure. You can call <a target=\"_blank\" href=\"https://spark.apache.org/docs/latest/api/python/pyspark.sql.html?highlight=cachetable#pyspark.sql.SQLContext.uncacheTable\"><code>spark.uncacheTable(\"tableName\")</code></a> to remove the table from memory.</p>\n",
    "\n",
    "<p>Configuration of in-memory caching can be done using the <a href=\"https://spark.apache.org/docs/latest/api/python/pyspark.sql.html?highlight=setconf#pyspark.sql.SQLContext.setConf\" target=\"_blank\"><code>setConf</code></a> method on <strong>SparkSession</strong> or by running <strong>SET key=value</strong> commands using SQL.</p>\n",
    "\n",
    "<table>\n",
    "<tr><th>Property Name</th><th>Default</th><th>Meaning</th></tr>\n",
    "<tr>\n",
    "  <td><code>spark.sql.inMemoryColumnarStorage.compressed</code></td>\n",
    "  <td>true</td>\n",
    "  <td>\n",
    "    When set to true Spark SQL will automatically select a compression codec for each column based on statistics of the data.\n",
    "  </td>\n",
    "</tr>\n",
    "<tr>\n",
    "  <td><code>spark.sql.inMemoryColumnarStorage.batchSize</code></td>\n",
    "  <td>10000</td>\n",
    "  <td>\n",
    "    Controls the size of batches for columnar caching. Larger batch sizes can improve memory utilization and compression, but risk OOMs when caching data.\n",
    "  </td>\n",
    "</tr>\n",
    "</table>\n",
    "<h2>Other Configuration Options</h2>\n",
    "\n",
    "<p>The following options can also be used to tune the performance of query execution. It is possible that these options will be deprecated in future release as more optimizations are performed automatically.</p>\n",
    "\n",
    "<table>\n",
    "  <tr><th>Property Name</th><th>Default</th><th>Meaning</th></tr>\n",
    "  <tr>\n",
    "    <td><code>spark.sql.files.maxPartitionBytes</code></td>\n",
    "    <td>134217728 (128 MB)</td>\n",
    "    <td>\n",
    "      The maximum number of bytes to pack into a single partition when reading files.\n",
    "    </td>\n",
    "  </tr>\n",
    "  <tr>\n",
    "    <td><code>spark.sql.files.openCostInBytes</code></td>\n",
    "    <td>4194304 (4 MB)</td>\n",
    "    <td>\n",
    "      The estimated cost to open a file, measured by the number of bytes could be scanned in the same time. This is used when putting multiple files into a partition. It is better to over estimated, then the partitions with small files will be faster than partitions with bigger files (which is scheduled first).\n",
    "    </td>\n",
    "  </tr>\n",
    "  <tr>\n",
    "    <td><code>spark.sql.broadcastTimeout</code></td>\n",
    "    <td>300</td>\n",
    "    <td>\n",
    "    <p>\n",
    "      Timeout in seconds for the broadcast wait time in broadcast joins\n",
    "    </p>\n",
    "    </td>\n",
    "  </tr>\n",
    "  <tr>\n",
    "    <td><code>spark.sql.autoBroadcastJoinThreshold</code></td>\n",
    "    <td>10485760 (10 MB)</td>\n",
    "    <td>\n",
    "      Configures the maximum size in bytes for a table that will be broadcast to all worker nodes when performing a join. By setting this value to -1 broadcasting can be disabled. Note that currently statistics are only supported for Hive Metastore tables where the command\n",
    "      <code>ANALYZE TABLE &lt;tableName&gt; COMPUTE STATISTICS noscan</code> has been run.\n",
    "    </td>\n",
    "  </tr>\n",
    "  <tr>\n",
    "    <td><code>spark.sql.shuffle.partitions</code></td>\n",
    "    <td>200</td>\n",
    "    <td>\n",
    "      Configures the number of partitions to use when shuffling data for joins or aggregations.\n",
    "    </td>\n",
    "  </tr>\n",
    "</table>\n",
    "<h1>Distributed SQL Engine(分布式SQL引擎)</h1>\n",
    "\n",
    "<p>Spark SQL can also act as a distributed query engine using its JDBC/ODBC or command-line interface.In this mode, end-users or applications can interact with Spark SQL directly to run SQL queries, without the need to write any code.</p>\n",
    "\n",
    "<h2>Running the Thrift JDBC/ODBC server(运行Thrift JDBC/ODBC服务)</h2>\n",
    "\n",
    "<p>The Thrift JDBC/ODBC server implemented here corresponds to the <a href=\"https://cwiki.apache.org/confluence/display/Hive/Setting+Up+HiveServer2\"><code>HiveServer2</code></a> in Hive 1.2.1 You can test the JDBC server with the beeline script that comes with either Spark or Hive 1.2.1.</p>\n",
    "\n",
    "<p>To start the JDBC/ODBC server, run the following in the Spark directory:</p>\n",
    "\n",
    "<pre><strong>./sbin/start-thriftserver.sh</strong></pre>\n",
    "\n",
    "<p>This script accepts all <strong>bin/spark-submit</strong> command line options, plus a <code>--hiveconf</code> option to specify Hive properties. You may run <strong>./sbin/start-thriftserver.sh --help</strong> for a complete list of all available options. By default, the server listens on localhost:10000. You may override this behaviour via either environment variables, i.e.:</p>\n",
    "<pre><strong>export HIVE_SERVER2_THRIFT_PORT=&lt;listening-port&gt;\n",
    "export HIVE_SERVER2_THRIFT_BIND_HOST=&lt;listening-host&gt;\n",
    "./sbin/start-thriftserver.sh \\\n",
    "  --master &lt;master-uri&gt; \\\n",
    "  ...</strong></pre>\n",
    "<p>or system properties:</p>\n",
    "<pre><strong>./sbin/start-thriftserver.sh \\\n",
    "  --hiveconf hive.server2.thrift.port=&lt;listening-port&gt; \\\n",
    "  --hiveconf hive.server2.thrift.bind.host=&lt;listening-host&gt; \\\n",
    "  --master &lt;master-uri&gt;\n",
    "  ...</strong></pre>\n",
    "<p>or system properties:</p>\n",
    "<pre><strong>./sbin/start-thriftserver.sh \\\n",
    "  --hiveconf hive.server2.thrift.port=&lt;listening-port&gt; \\\n",
    "  --hiveconf hive.server2.thrift.bind.host=&lt;listening-host&gt; \\\n",
    "  --master &lt;master-uri&gt;\n",
    "  ...</strong></pre>\n",
    "<p>Now you can use beeline to test the Thrift JDBC/ODBC server:</p>\n",
    "\n",
    "<pre><strong>./bin/beeline</strong></pre>\n",
    "\n",
    "<p>Connect to the JDBC/ODBC server in beeline with:</p>\n",
    "\n",
    "<pre><strong>beeline&gt; !connect jdbc:hive2://localhost:10000</strong></pre>\n",
    "\n",
    "<p>Beeline will ask you for a username and password. In non-secure mode, simply enter the username on your machine and a blank password. For secure mode, please follow the instructions given in the\n",
    "<a href=\"https://cwiki.apache.org/confluence/display/Hive/HiveServer2+Clients\">beeline documentation</a>.</p>\n",
    "\n",
    "<p>Configuration of Hive is done by placing your <strong>hive-site.xml</strong>, <strong>core-site.xml</strong> and <strong>hdfs-site.xml</strong> files in <strong>conf/</strong>.</p>\n",
    "\n",
    "<p>You may also use the beeline script that comes with Hive.</p>\n",
    "\n",
    "<p>Thrift JDBC server also supports sending thrift RPC messages over HTTP transport.Use the following setting to enable HTTP mode as system property or in <strong>hive-site.xml</strong> file in <strong>conf/</strong>:</p>\n",
    "\n",
    "<p>You may also use the beeline script that comes with Hive.</p>\n",
    "\n",
    "<p>Thrift JDBC server also supports sending thrift RPC messages over HTTP transport.Use the following setting to enable HTTP mode as system property or in <strong>hive-site.xml</strong> file in <strong>conf/</strong>:</p>\n",
    "\n",
    "<pre><strong>hive.server2.transport.mode - Set this to value: http\n",
    "hive.server2.thrift.http.port - HTTP port number fo listen on; default is 10001\n",
    "hive.server2.http.endpoint - HTTP endpoint; default is cliservice\n",
    "</strong></pre>\n",
    "\n",
    "<p>To test, use beeline to connect to the JDBC/ODBC server in http mode with:</p>\n",
    "\n",
    "<pre><strong>beeline&gt; !connect jdbc:hive2://&lt;host&gt;:&lt;port&gt;/&lt;database&gt;?hive.server2.transport.mode=http;hive.server2.thrift.http.path=&lt;http_endpoint&gt;</strong></pre>\n",
    "\n",
    "<h2>Running the Spark SQL CLI</h2>\n",
    "\n",
    "<p>The Spark SQL CLI is a convenient tool to run the Hive metastore service in local mode and execute queries input from the command line. Note that the Spark SQL CLI cannot talk to the Thrift JDBC server.</p>\n",
    "\n",
    "<p>To start the Spark SQL CLI, run the following in the Spark directory:</p>\n",
    "\n",
    "<pre><strong>./bin/spark-sql</strong></pre>\n",
    "\n",
    "<p>Configuration of Hive is done by placing your <strong>hive-site.xml</strong>, <strong>core-site.xml</strong> and <strong>hdfs-site.xml</strong> files in <strong>conf/</strong>.You may run <strong>./bin/spark-sql --help</strong> for a complete list of all available options.</p>\n",
    "\n",
    "<h1>Migration Guide</h1>\n",
    "\n",
    "<h2>Upgrading From Spark SQL 1.6 to 2.0</h2>\n",
    "\n",
    "<ul>\n",
    "  <li>\n",
    "    <p><code>SparkSession</code> is now the new entry point of Spark that replaces the old <code>SQLContext</code> and\n",
    "<code>HiveContext</code>. Note that the old SQLContext and HiveContext are kept for backward compatibility. A new <code>catalog</code> interface is accessible from <code>SparkSession</code> - existing API on databases and tables access such as <code>listTables</code>, <code>createExternalTable</code>, <code>dropTempView</code>, <code>cacheTable</code> are moved here.</p>\n",
    "  </li>\n",
    "  <li>\n",
    "    <p>Dataset API and DataFrame API are unified. In Scala, <code>DataFrame</code> becomes a type alias for\n",
    "<code>Dataset[Row]</code>, while Java API users must replace <code>DataFrame</code> with <code>Dataset&lt;Row&gt;</code>. Both the typed transformations (e.g. <code>map</code>, <code>filter</code>, and <code>groupByKey</code>) and untyped transformations (e.g.<code>select</code> and <code>groupBy</code>) are available on the Dataset class. Since compile-time type-safety in Python and R is not a language feature, the concept of Dataset does not apply to these languages’APIs. Instead, <code>DataFrame</code> remains the primary programing abstraction, which is analogous to the\n",
    "single-node data frame notion in these languages.</p>\n",
    "  </li>\n",
    "  <li>Dataset and DataFrame API <code>unionAll</code> has been deprecated and replaced by <code>union</code></li>\n",
    "  <li>Dataset and DataFrame API <code>explode</code> has been deprecated, alternatively, use <code>functions.explode()</code> with <code>select</code> or <code>flatMap</code></li>\n",
    "  <li>Dataset and DataFrame API <code>registerTempTable</code> has been deprecated and replaced by <code>createOrReplaceTempView</code></li>\n",
    "</ul>\n",
    "\n",
    "<h2>Upgrading From Spark SQL 1.5 to 1.6</h2>\n",
    "\n",
    "<ul>\n",
    "  <li>From Spark 1.6, by default the Thrift server runs in multi-session mode. Which means each JDBC/ODBC connection owns a copy of their own SQL configuration and temporary function registry. Cached tables are still shared though. If you prefer to run the Thrift server in the old single-session mode, please set option <code>spark.sql.hive.thriftServer.singleSession</code> to <code>true</code>. You may either add this option to <code>spark-defaults.conf</code>, or pass it to <code>start-thriftserver.sh</code> via <code>--conf</code>:</li>\n",
    "</ul>\n",
    "<pre><strong>./sbin/start-thriftserver.sh \\\n",
    "     --conf spark.sql.hive.thriftServer.singleSession=true \\\n",
    "     ...</strong></pre>\n",
    "\n",
    "<ul>\n",
    "  <li>\n",
    "    <p>Since 1.6.1, withColumn method in sparkR supports adding a new column to or replacing existing columns\n",
    "of the same name of a DataFrame.</p>\n",
    "  </li>\n",
    "  <li>\n",
    "    <p>From Spark 1.6, LongType casts to TimestampType expect seconds instead of microseconds. This\n",
    "change was made to match the behavior of Hive 1.2 for more consistent type casting to TimestampType\n",
    "from numeric types. See <a href=\"https://issues.apache.org/jira/browse/SPARK-11724\">SPARK-11724</a> for\n",
    "details.</p>\n",
    "  </li>\n",
    "</ul>\n",
    "\n",
    "<h2>Upgrading From Spark SQL 1.4 to 1.5</h2>\n",
    "\n",
    "<ul>\n",
    "  <li>Optimized execution using manually managed memory (Tungsten) is now enabled by default, along with\n",
    "code generation for expression evaluation. These features can both be disabled by setting <code>spark.sql.tungsten.enabled</code> to <code>false</code>.</li>\n",
    "  <li>Parquet schema merging is no longer enabled by default. It can be re-enabled by setting\n",
    "<code>spark.sql.parquet.mergeSchema</code> to <code>true</code>.</li>\n",
    "  <li>Resolution of strings to columns in python now supports using dots (<code>.</code>) to qualify the column or\n",
    "access nested values. For example <code>df['table.column.nestedField']</code>. However, this means that if\n",
    "your column name contains any dots you must now escape them using backticks (e.g., <code>table.`column.with.dots`.nested</code>).</li>\n",
    "  <li>In-memory columnar storage partition pruning is on by default. It can be disabled by setting\n",
    "<code>spark.sql.inMemoryColumnarStorage.partitionPruning</code> to <code>false</code>.</li>\n",
    "  <li>Unlimited precision decimal columns are no longer supported, instead Spark SQL enforces a maximum\n",
    "precision of 38. When inferring schema from <code>BigDecimal</code> objects, a precision of (38, 18) is now\n",
    "used. When no precision is specified in DDL then the default remains <code>Decimal(10, 0)</code>.</li>\n",
    "  <li>Timestamps are now stored at a precision of 1us, rather than 1ns</li>\n",
    "  <li>In the <code>sql</code> dialect, floating point numbers are now parsed as decimal. HiveQL parsing remains\n",
    "unchanged.</li>\n",
    "  <li>The canonical name of SQL/DataFrame functions are now lower case (e.g. sum vs SUM).</li>\n",
    "  <li>JSON data source will not automatically load new files that are created by other applications\n",
    "(i.e. files that are not inserted to the dataset through Spark SQL).\n",
    "For a JSON persistent table (i.e. the metadata of the table is stored in Hive Metastore),\n",
    "users can use <code>REFRESH TABLE</code> SQL command or <code>HiveContext</code>&#8217;s <code>refreshTable</code> method\n",
    "to include those new files to the table. For a DataFrame representing a JSON dataset, users need to recreate\n",
    "the DataFrame and the new DataFrame will include new files.</li>\n",
    "  <li>DataFrame.withColumn method in pySpark supports adding a new column or replacing existing columns of the same name.</li>\n",
    "</ul>\n",
    "\n",
    "<h2>Upgrading from Spark SQL 1.3 to 1.4</h2>\n",
    "\n",
    "<h4>DataFrame data reader/writer interface</h4>\n",
    "\n",
    "<p>Based on user feedback, we created a new, more fluid API for reading data in (<code>SQLContext.read</code>)\n",
    "and writing data out (<code>DataFrame.write</code>),and deprecated the old APIs (e.g. <code>SQLContext.parquetFile</code>, <code>SQLContext.jsonFile</code>).</p>\n",
    "\n",
    "<p>See the API docs for <code>SQLContext.read</code> (\n",
    "  <a href=\"http://spark.apache.org/docs/latest/api/scala/index.html#org.apache.spark.sql.SQLContext@read:DataFrameReader\">Scala</a>,\n",
    "  <a href=\"http://spark.apache.org/docs/latest/api/java/org/apache/spark/sql/SQLContext.html#read()\">Java</a>,\n",
    "  <a href=\"http://spark.apache.org/docs/latest/api/python/pyspark.sql.html#pyspark.sql.SQLContext.read\">Python</a>\n",
    ") and <code>DataFrame.write</code> (\n",
    "  <a href=\"http://spark.apache.org/docs/latest/api/scala/index.html#org.apache.spark.sql.SQLContext@read:DataFrameReader\">Scala</a>,\n",
    "  <a href=\"http://spark.apache.org/docs/latest/api/java/org/apache/spark/sql/SQLContext.html#read()\">Java</a>,\n",
    "  <a href=\"http://spark.apache.org/docs/latest/api/python/pyspark.sql.html#pyspark.sql.SQLContext.read\">Python</a>\n",
    ") more information.</p>\n",
    "\n",
    "<h4>DataFrame.groupBy retains grouping columns</h4>\n",
    "\n",
    "<p>Based on user feedback, we changed the default behavior of <code>DataFrame.groupBy().agg()</code> to retain the\n",
    "grouping columns in the resulting <code>DataFrame</code>. To keep the behavior in 1.3, set <code>spark.sql.retainGroupColumns</code> to <code>false</code>.</p>"
   ]
  },
  {
   "cell_type": "code",
   "execution_count": 57,
   "metadata": {
    "collapsed": false
   },
   "outputs": [],
   "source": [
    "import pyspark.sql.functions as func\n",
    "\n",
    "# In 1.3.x, in order for the grouping column \"department\" to show up,\n",
    "# it must be included explicitly as part of the agg function call.\n",
    "#df.groupBy(\"department\").agg(df[\"department\"], func.max(\"age\"), func.sum(\"expense\"))\n",
    "\n",
    "# In 1.4+, grouping column \"department\" is included automatically.\n",
    "#df.groupBy(\"department\").agg(func.max(\"age\"), func.sum(\"expense\"))\n",
    "\n",
    "# Revert to 1.3.x behavior (not retaining grouping column) by:\n",
    "#sqlContext.setConf(\"spark.sql.retainGroupColumns\", \"false\")"
   ]
  },
  {
   "cell_type": "markdown",
   "metadata": {},
   "source": [
    "<h4>Behavior change on DataFrame.withColumn</h4>\n",
    "\n",
    "<p>Prior to 1.4, DataFrame.withColumn() supports adding a column only. The column will always be added as a new column with its specified name in the result DataFrame even if there may be any existing columns of the same name. Since 1.4, DataFrame.withColumn() supports adding a column of a different name from names of all existing columns or replacing existing columns of the same name.</p>\n",
    "\n",
    "<p>Note that this change is only for Scala API, not for PySpark and SparkR.</p>\n",
    "\n",
    "<h2>Upgrading from Spark SQL 1.0-1.2 to 1.3</h2>\n",
    "\n",
    "<p>In Spark 1.3 we removed the &#8220;Alpha&#8221; label from Spark SQL and as part of this did a cleanup of the\n",
    "available APIs. From Spark 1.3 onwards, Spark SQL will provide binary compatibility with other releases in the 1.X series. This compatibility guarantee excludes APIs that are explicitly marked as unstable (i.e., DeveloperAPI or Experimental).</p>\n",
    "\n",
    "<h4>Rename of SchemaRDD to DataFrame</h4>\n",
    "\n",
    "<p>The largest change that users will notice when upgrading to Spark SQL 1.3 is that <code>SchemaRDD</code> has\n",
    "been renamed to <code>DataFrame</code>. This is primarily because DataFrames no longer inherit from RDD directly, but instead provide most of the functionality that RDDs provide though their own implementation. DataFrames can still be converted to RDDs by calling the <code>.rdd</code> method.</p>\n",
    "\n",
    "<p>In Scala there is a type alias from <code>SchemaRDD</code> to <code>DataFrame</code> to provide source compatibility for some use cases. It is still recommended that users update their code to use <code>DataFrame</code> instead. Java and Python users will need to update their code.</p>\n",
    "\n",
    "<h4>Unification of the Java and Scala APIs</h4>\n",
    "<p>Prior to Spark 1.3 there were separate Java compatible classes (<code>JavaSQLContext</code> and <code>JavaSchemaRDD</code>) hat mirrored the Scala API. In Spark 1.3 the Java API and Scala API have been unified. Users\n",
    "of either language should use <code>SQLContext</code> and <code>DataFrame</code>. In general theses classes try to\n",
    "use types that are usable from both languages (i.e. <code>Array</code> instead of language specific collections).\n",
    "In some cases where no common type exists (e.g., for passing in closures or Maps) function overloading is used instead.</p>\n",
    "\n",
    "<p>Additionally the Java specific types API has been removed. Users of both Scala and Java should use the classes present in <code>org.apache.spark.sql.types</code> to describe schema programmatically.</p>\n",
    "\n",
    "<h4>Isolation of Implicit Conversions and Removal of dsl Package (Scala-only)</h4>\n",
    "\n",
    "<p>Many of the code examples prior to Spark 1.3 started with <code>import sqlContext._</code>, which brought\n",
    "all of the functions from sqlContext into scope. In Spark 1.3 we have isolated the implicit conversions for converting <code>RDD</code>s into <code>DataFrame</code>s into an object inside of the <code>SQLContext</code>.Users should now write <code>import sqlContext.implicits._</code>.</p>\n",
    "\n",
    "<p>Additionally, the implicit conversions now only augment RDDs that are composed of <code>Product</code>s (i.e.,\n",
    "case classes or tuples) with a method <code>toDF</code>, instead of applying automatically.</p>\n",
    "\n",
    "<p>When using function inside of the DSL (now replaced with the <code>DataFrame</code> API) users used to import\n",
    "<code>org.apache.spark.sql.catalyst.dsl</code>. Instead the public dataframe functions API should be used:\n",
    "<code>import org.apache.spark.sql.functions._</code>.</p>\n",
    "\n",
    "<h4>Removal of the type aliases in org.apache.spark.sql for DataType (Scala-only)</h4>\n",
    "\n",
    "<p>Spark 1.3 removes the type aliases that were present in the base sql package for <code>DataType</code>. Users\n",
    "should instead import the classes in <code>org.apache.spark.sql.types</code></p>\n",
    "\n",
    "<h4>UDF Registration Moved to <code>sqlContext.udf</code> (Java &amp; Scala)</h4>\n",
    "\n",
    "<p>Functions that are used to register UDFs, either for use in the DataFrame DSL or SQL, have been moved into the udf object in <code>SQLContext</code>.</p>\n",
    "<p>Python UDF registration is unchanged.</p>\n",
    "\n",
    "<h4>Python DataTypes No Longer Singletons</h4>\n",
    "\n",
    "<p>When using DataTypes in Python you will need to construct them (i.e. <code>StringType()</code>) instead of referencing a singleton.</p>\n",
    "\n",
    "<h2>Compatibility with Apache Hive(兼容Hive)</h2>\n",
    "\n",
    "<p>Spark SQL is designed to be compatible with the Hive Metastore, SerDes and UDFs.Currently Hive SerDes and UDFs are based on Hive 1.2.1,and Spark SQL can be connected to different versions of Hive Metastore (from 0.12.0 to 1.2.1. Also see [Interacting with Different Versions of Hive Metastore] (#interacting-with-different-versions-of-hive-metastore)).</p>\n",
    "\n",
    "<h4>Deploying in Existing Hive Warehouses(在Hive warehouse中部署Spark SQL)</h4>\n",
    "\n",
    "<p>The Spark SQL Thrift JDBC server is designed to be &#8220;out of the box&#8221; compatible with existing Hive\n",
    "installations. You do not need to modify your existing Hive Metastore or change the data placement or partitioning of your tables.</p>\n",
    "\n",
    "<h3>Supported Hive Features(支持的Hive特性)</h3>\n",
    "\n",
    "<p>Spark SQL supports the vast majority of Hive features, such as:</p>\n",
    "\n",
    "<ul>\n",
    "  <li>Hive query statements, including:\n",
    "    <ul>\n",
    "      <li><code>SELECT</code></li>\n",
    "      <li><code>GROUP BY</code></li>\n",
    "      <li><code>ORDER BY</code></li>\n",
    "      <li><code>CLUSTER BY</code></li>\n",
    "      <li><code>SORT BY</code></li>\n",
    "    </ul>\n",
    "  </li>\n",
    "  <li>All Hive operators, including:\n",
    "    <ul>\n",
    "      <li>Relational operators (<code>=</code>, <code>⇔</code>, <code>==</code>, <code>&lt;&gt;</code>, <code>&lt;</code>, <code>&gt;</code>, <code>&gt;=</code>, <code>&lt;=</code>, etc)</li>\n",
    "      <li>Arithmetic operators (<code>+</code>, <code>-</code>, <code>*</code>, <code>/</code>, <code>%</code>, etc)</li>\n",
    "      <li>Logical operators (<code>AND</code>, <code>&amp;&amp;</code>, <code>OR</code>, <code>||</code>, etc)</li>\n",
    "      <li>Complex type constructors</li>\n",
    "      <li>Mathematical functions (<code>sign</code>, <code>ln</code>, <code>cos</code>, etc)</li>\n",
    "      <li>String functions (<code>instr</code>, <code>length</code>, <code>printf</code>, etc)</li>\n",
    "    </ul>\n",
    "  </li>\n",
    "  <li>User defined functions (UDF)</li>\n",
    "  <li>User defined aggregation functions (UDAF)</li>\n",
    "  <li>User defined serialization formats (SerDes)</li>\n",
    "  <li>Window functions</li>\n",
    "  <li>Joins\n",
    "    <ul>\n",
    "      <li><code>JOIN</code></li>\n",
    "      <li><code>{LEFT|RIGHT|FULL} OUTER JOIN</code></li>\n",
    "      <li><code>LEFT SEMI JOIN</code></li>\n",
    "      <li><code>CROSS JOIN</code></li>\n",
    "    </ul>\n",
    "  </li>\n",
    "  <li>Unions</li>\n",
    "  <li>Sub-queries\n",
    "    <ul>\n",
    "      <li><code>SELECT col FROM ( SELECT a + b AS col from t1) t2</code></li>\n",
    "    </ul>\n",
    "  </li>\n",
    "  <li>Sampling</li>\n",
    "  <li>Explain</li>\n",
    "  <li>Partitioned tables including dynamic partition insertion</li>\n",
    "  <li>View</li>\n",
    "  <li>All Hive DDL Functions, including:\n",
    "    <ul>\n",
    "      <li><code>CREATE TABLE</code></li>\n",
    "      <li><code>CREATE TABLE AS SELECT</code></li>\n",
    "      <li><code>ALTER TABLE</code></li>\n",
    "    </ul>\n",
    "  </li>\n",
    "  <li>Most Hive Data types, including:\n",
    "    <ul>\n",
    "      <li><code>TINYINT</code></li>\n",
    "      <li><code>SMALLINT</code></li>\n",
    "      <li><code>INT</code></li>\n",
    "      <li><code>BIGINT</code></li>\n",
    "      <li><code>BOOLEAN</code></li>\n",
    "      <li><code>FLOAT</code></li>\n",
    "      <li><code>DOUBLE</code></li>\n",
    "      <li><code>STRING</code></li>\n",
    "      <li><code>BINARY</code></li>\n",
    "      <li><code>TIMESTAMP</code></li>\n",
    "      <li><code>DATE</code></li>\n",
    "      <li><code>ARRAY&lt;&gt;</code></li>\n",
    "      <li><code>MAP&lt;&gt;</code></li>\n",
    "      <li><code>STRUCT&lt;&gt;</code></li>\n",
    "    </ul>\n",
    "  </li>\n",
    "</ul>\n",
    "\n",
    "<h3>Unsupported Hive Functionality(不支持的Hive功能)</h3>\n",
    "\n",
    "<p>Below is a list of Hive features that we don&#8217;t support yet. Most of these features are rarely used in Hive deployments.</p>\n",
    "\n",
    "<p><strong>Major Hive Features</strong></p>\n",
    "\n",
    "<ul>\n",
    "  <li>Tables with buckets: bucket is the hash partitioning within a Hive table partition. Spark SQL doesn&#8217;t support buckets yet.</li>\n",
    "</ul>\n",
    "\n",
    "<p><strong>Esoteric Hive Features</strong></p>\n",
    "\n",
    "<ul>\n",
    "  <li><code>UNION</code> type</li>\n",
    "  <li>Unique join</li>\n",
    "  <li>Column statistics collecting: Spark SQL does not piggyback scans to collect column statistics at\n",
    "the moment and only supports populating the sizeInBytes field of the hive metastore.</li>\n",
    "</ul>\n",
    "\n",
    "<p><strong>Hive Input/Output Formats</strong></p>\n",
    "\n",
    "<ul>\n",
    "  <li>File format for CLI: For results showing back to the CLI, Spark SQL only supports TextOutputFormat.</li>\n",
    "  <li>Hadoop archive</li>\n",
    "</ul>\n",
    "\n",
    "<p><strong>Hive Optimizations</strong></p>\n",
    "\n",
    "<p>A handful of Hive optimizations are not yet included in Spark. Some of these (such as indexes) are less important due to Spark SQL&#8217;s in-memory computational model. Others are slotted for future releases of Spark SQL.</p>\n",
    "\n",
    "<ul>\n",
    "  <li>Block level bitmap indexes and virtual columns (used to build indexes)</li>\n",
    "  <li>Automatically determine the number of reducers for joins and groupbys: Currently in Spark SQL, you need to control the degree of parallelism post-shuffle using &#8220;<code>SET spark.sql.shuffle.partitions=[num_tasks];</code>&#8221;.</li>\n",
    "  <li>Meta-data only query: For queries that can be answered by using only meta data, Spark SQL still launches tasks to compute the result.</li>\n",
    "  <li>Skew data flag: Spark SQL does not follow the skew data flags in Hive.</li>\n",
    "  <li><code>STREAMTABLE</code> hint in join: Spark SQL does not follow the <code>STREAMTABLE</code> hint.</li>\n",
    "  <li>Merge multiple small files for query results: if the result output contains multiple small files,Hive can optionally merge the small files into fewer large files to avoid overflowing the HDFS metadata. Spark SQL does not support that.</li>\n",
    "</ul>\n",
    "\n",
    "<h1>Reference</h1>\n",
    "\n",
    "<h2>Data Types</h2>\n",
    "\n",
    "<p>Spark SQL and DataFrames support the following data types:</p>\n",
    "\n",
    "<ul>\n",
    "  <li>Numeric types\n",
    "    <ul>\n",
    "      <li><code>ByteType</code>: Represents 1-byte signed integer numbers.The range of numbers is from <code>-128</code> to <code>127</code>.</li>\n",
    "      <li><code>ShortType</code>: Represents 2-byte signed integer numbers.The range of numbers is from <code>-32768</code> to <code>32767</code>.</li>\n",
    "      <li><code>IntegerType</code>: Represents 4-byte signed integer numbers.The range of numbers is from <code>-2147483648</code> to <code>2147483647</code>.</li>\n",
    "      <li><code>LongType</code>: Represents 8-byte signed integer numbers.The range of numbers is from <code>-9223372036854775808</code> to <code>9223372036854775807</code>.</li>\n",
    "      <li><code>FloatType</code>: Represents 4-byte single-precision floating point numbers.</li>\n",
    "      <li><code>DoubleType</code>: Represents 8-byte double-precision floating point numbers.</li>\n",
    "      <li><code>DecimalType</code>: Represents arbitrary-precision signed decimal numbers. Backed internally by <code>java.math.BigDecimal</code>. A <code>BigDecimal</code> consists of an arbitrary precision integer unscaled value and a 32-bit integer scale.</li>\n",
    "    </ul>\n",
    "  </li>\n",
    "  <li>String type\n",
    "    <ul>\n",
    "      <li><code>StringType</code>: Represents character string values.</li>\n",
    "    </ul>\n",
    "  </li>\n",
    "  <li>Binary type\n",
    "    <ul>\n",
    "      <li><code>BinaryType</code>: Represents byte sequence values.</li>\n",
    "    </ul>\n",
    "  </li>\n",
    "  <li>Boolean type\n",
    "    <ul>\n",
    "      <li><code>BooleanType</code>: Represents boolean values.</li>\n",
    "    </ul>\n",
    "  </li>\n",
    "  <li>Datetime type\n",
    "    <ul>\n",
    "      <li><code>TimestampType</code>: Represents values comprising values of fields year, month, day, hour, minute, and second.</li>\n",
    "      <li><code>DateType</code>: Represents values comprising values of fields year, month, day.</li>\n",
    "    </ul>\n",
    "  </li>\n",
    "  <li>Complex types\n",
    "    <ul>\n",
    "      <li><code>ArrayType(elementType, containsNull)</code>: Represents values comprising a sequence of elements with the type of <code>elementType</code>. <code>containsNull</code> is used to indicate if elements in a <code>ArrayType</code> value can have <code>null</code> values.</li>\n",
    "      <li><code>MapType(keyType, valueType, valueContainsNull)</code>: Represents values comprising a set of key-value pairs. The data type of keys are described by <code>keyType</code> and the data type of values are described by <code>valueType</code>.For a <code>MapType</code> value, keys are not allowed to have <code>null</code> values. <code>valueContainsNull</code>is used to indicate if values of a <code>MapType</code> value can have <code>null</code> values.</li>\n",
    "      <li><code>StructType(fields)</code>: Represents values with the structure described by a sequence of <code>StructField</code>s (<code>fields</code>).\n",
    "        <ul>\n",
    "          <li><code>StructField(name, dataType, nullable)</code>: Represents a field in a <code>StructType</code>.\n",
    "The name of a field is indicated by <code>name</code>. The data type of a field is indicated by <code>dataType</code>. <code>nullable</code> is used to indicate if values of this fields can have <code>null</code> values.</li>\n",
    "        </ul>\n",
    "      </li>\n",
    "    </ul>\n",
    "  </li>\n",
    "</ul>\n",
    "<p>All data types of Spark SQL are located in the package of <a href=\"https://spark.apache.org/docs/latest/api/python/pyspark.sql.html?highlight=sql.types#module-pyspark.sql.types\"><strong>pyspark.sql.types</strong></a>.You can access them by doing:</p>"
   ]
  },
  {
   "cell_type": "code",
   "execution_count": 58,
   "metadata": {
    "collapsed": true
   },
   "outputs": [],
   "source": [
    "from pyspark.sql.types import *"
   ]
  },
  {
   "cell_type": "markdown",
   "metadata": {},
   "source": [
    "<table>\n",
    "<tr>\n",
    "  <th style=\"width:20%\">Data type</th>\n",
    "  <th style=\"width:40%\">Value type in Python</th>\n",
    "  <th>API to access or create a data type</th></tr>\n",
    "<tr>\n",
    "  <td> <b>ByteType</b> </td>\n",
    "  <td>\n",
    "  int or long <br />\n",
    "  <b>Note:</b> Numbers will be converted to 1-byte signed integer numbers at runtime.Please make sure that numbers are within the range of -128 to 127.\n",
    "  </td>\n",
    "  <td>\n",
    "  ByteType()\n",
    "  </td>\n",
    "</tr>\n",
    "<tr>\n",
    "  <td> <b>ShortType</b> </td>\n",
    "  <td>\n",
    "  int or long <br />\n",
    "  <b>Note:</b> Numbers will be converted to 2-byte signed integer numbers at runtime.Please make sure that numbers are within the range of -32768 to 32767.\n",
    "  </td>\n",
    "  <td>\n",
    "  ShortType()\n",
    "  </td>\n",
    "</tr>\n",
    "<tr>\n",
    "  <td> <b>IntegerType</b> </td>\n",
    "  <td> int or long </td>\n",
    "  <td>\n",
    "  IntegerType()\n",
    "  </td>\n",
    "</tr>\n",
    "<tr>\n",
    "  <td> <b>LongType</b> </td>\n",
    "  <td>\n",
    "  long <br />\n",
    "  <b>Note:</b> Numbers will be converted to 8-byte signed integer numbers at runtime.Please make sure that numbers are within the range of -9223372036854775808 to 9223372036854775807.Otherwise, please convert data to decimal.Decimal and use DecimalType.\n",
    "  </td>\n",
    "  <td>\n",
    "  LongType()\n",
    "  </td>\n",
    "</tr>\n",
    "<tr>\n",
    "  <td> <b>FloatType</b> </td>\n",
    "  <td>\n",
    "  float <br />\n",
    "  <b>Note:</b> Numbers will be converted to 4-byte single-precision floating\n",
    "  point numbers at runtime.\n",
    "  </td>\n",
    "  <td>\n",
    "  FloatType()\n",
    "  </td>\n",
    "</tr>\n",
    "<tr>\n",
    "  <td> <b>DoubleType</b> </td>\n",
    "  <td> float </td>\n",
    "  <td>\n",
    "  DoubleType()\n",
    "  </td>\n",
    "</tr>\n",
    "<tr>\n",
    "  <td> <b>DecimalType</b> </td>\n",
    "  <td> decimal.Decimal </td>\n",
    "  <td>\n",
    "  DecimalType()\n",
    "  </td>\n",
    "</tr>\n",
    "<tr>\n",
    "  <td> <b>StringType</b> </td>\n",
    "  <td> string </td>\n",
    "  <td>\n",
    "  StringType()\n",
    "  </td>\n",
    "</tr>\n",
    "<tr>\n",
    "  <td> <b>BinaryType</b> </td>\n",
    "  <td> bytearray </td>\n",
    "  <td>\n",
    "  BinaryType()\n",
    "  </td>\n",
    "</tr>\n",
    "<tr>\n",
    "  <td> <b>BooleanType</b> </td>\n",
    "  <td> bool </td>\n",
    "  <td>\n",
    "  BooleanType()\n",
    "  </td>\n",
    "</tr>\n",
    "<tr>\n",
    "  <td> <b>TimestampType</b> </td>\n",
    "  <td> datetime.datetime </td>\n",
    "  <td>\n",
    "  TimestampType()\n",
    "  </td>\n",
    "</tr>\n",
    "<tr>\n",
    "  <td> <b>DateType</b> </td>\n",
    "  <td> datetime.date </td>\n",
    "  <td>\n",
    "  DateType()\n",
    "  </td>\n",
    "</tr>\n",
    "<tr>\n",
    "  <td> <b>ArrayType</b> </td>\n",
    "  <td> list, tuple, or array </td>\n",
    "  <td>\n",
    "  ArrayType(<i>elementType</i>, [<i>containsNull</i>])<br />\n",
    "  <b>Note:</b> The default value of <i>containsNull</i> is <i>True</i>.\n",
    "  </td>\n",
    "</tr>\n",
    "<tr>\n",
    "  <td> <b>MapType</b> </td>\n",
    "  <td> dict </td>\n",
    "  <td>\n",
    "  MapType(<i>keyType</i>, <i>valueType</i>, [<i>valueContainsNull</i>])<br />\n",
    "  <b>Note:</b> The default value of <i>valueContainsNull</i> is <i>True</i>.\n",
    "  </td>\n",
    "</tr>\n",
    "<tr>\n",
    "  <td> <b>StructType</b> </td>\n",
    "  <td> list or tuple </td>\n",
    "  <td>\n",
    "  StructType(<i>fields</i>)<br />\n",
    "  <b>Note:</b> <i>fields</i> is a Seq of StructFields. Also, two fields with the same name are not allowed.\n",
    "  </td>\n",
    "</tr>\n",
    "<tr>\n",
    "  <td> <b>StructField</b> </td>\n",
    "  <td> The value type in Python of the data type of this field(For example, Int for a StructField with the data type IntegerType) </td>\n",
    "  <td>\n",
    "  StructField(<i>name</i>, <i>dataType</i>, <i>nullable</i>)\n",
    "  </td>\n",
    "</tr>\n",
    "</table>"
   ]
  },
  {
   "cell_type": "markdown",
   "metadata": {},
   "source": [
    "<h2>NaN Semantics(NaN语义)</h2>\n",
    "<p>There is specially handling for not-a-number (NaN) when dealing with <code>float</code> or <code>double</code> types that does not exactly match standard floating point semantics.Specifically(当处理float或double类型时，如果类型不符合标准的浮点语义，则使用专门的处理方式NaN。需要注意的是：):</p>\n",
    "<ul>\n",
    "  <li>NaN = NaN returns true(NaN = NaN 返回 true).</li>\n",
    "  <li>In aggregations all NaN values are grouped together(可以对NaN值进行聚合操作).</li>\n",
    "  <li>NaN is treated as a normal value in join keys(在join操作中，key为NaN时，NaN值与普通的数值处理逻辑相同).</li>\n",
    "  <li>NaN values go last when in ascending order, larger than any other numeric value(NaN值大于所有的数值型数据，在升序排序中排在最后).</li>\n",
    "</ul>"
   ]
  }
 ],
 "metadata": {
  "anaconda-cloud": {},
  "kernelspec": {
   "display_name": "Python [Root]",
   "language": "python",
   "name": "Python [Root]"
  },
  "language_info": {
   "codemirror_mode": {
    "name": "ipython",
    "version": 3
   },
   "file_extension": ".py",
   "mimetype": "text/x-python",
   "name": "python",
   "nbconvert_exporter": "python",
   "pygments_lexer": "ipython3",
   "version": "3.5.2"
  }
 },
 "nbformat": 4,
 "nbformat_minor": 0
}
