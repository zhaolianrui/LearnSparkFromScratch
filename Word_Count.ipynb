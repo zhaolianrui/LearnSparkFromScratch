{
 "cells": [
  {
   "cell_type": "markdown",
   "metadata": {},
   "source": [
    "Spark版本为2.0.0,Python版本为3.5.2,Jupyter notebook server版本为4.2.1"
   ]
  },
  {
   "cell_type": "markdown",
   "metadata": {},
   "source": [
    "<a rel=\"license\" href=\"http://creativecommons.org/licenses/by-nc-nd/4.0/\"><img alt=\"Creative Commons License\" style=\"border-width:0\" src=\"https://i.creativecommons.org/l/by-nc-nd/4.0/88x31.png\" /></a><br />This work is licensed under a <a rel=\"license\" href=\"http://creativecommons.org/licenses/by-nc-nd/4.0/\">Creative Commons Attribution-NonCommercial-NoDerivatives 4.0 International License</a>.\n",
    "<img src=\"http://spark-mooc.github.io/web-assets/images/ta_Spark-logo-small.png\">\n",
    "<img src=\"http://spark-mooc.github.io/web-assets/images/python-logo-master-v3-TM-flattened_small.png\">"
   ]
  },
  {
   "cell_type": "markdown",
   "metadata": {},
   "source": [
    "# **Word Count Lab: Building a word count application**\n",
    "\n",
    "This lab will build on the techniques covered in the Spark tutorial to develop a simple word count application.  The volume of unstructured text in existence is growing dramatically, and Spark is an excellent tool for analyzing this type of data.  In this lab, we will write code that calculates the most common words(**最常见的词**) in the [Complete Works of William Shakespeare](http://www.gutenberg.org/ebooks/100)(**莎士比亚全集**) retrieved from [Project Gutenberg](http://www.gutenberg.org/wiki/Main_Page)(**古登堡计划是一个以自由的和电子化的形式,基于互联网,大量提供版权过期而进入公有领域书籍的一项协作计划.**).  This could also be scaled to larger applications, such as finding the most common words in Wikipedia.\n",
    "\n",
    "** During this lab we will cover: **\n",
    "* *Part 1:* Creating a base DataFrame and performing operations\n",
    "* *Part 2:* Counting with Spark SQL and DataFrames\n",
    "* *Part 3:* Finding unique words and a mean value\n",
    "* *Part 4:* Apply word count to a file\n",
    "\n",
    "Note that for reference, you can look up the details of the relevant methods in [Spark's Python API](https://spark.apache.org/docs/latest/api/python/pyspark.html#pyspark.sql).\n",
    "#### ** Part 1: Creating a base DataFrame and performing operations **\n",
    "In this part of the lab, we will explore creating a base DataFrame with **`sqlContext.createDataFrame`** and using DataFrame operations to count words.\n",
    "** (1a) Create a DataFrame **\n",
    "\n",
    "We'll start by generating a base DataFrame by using a Python list of tuples and the `sqlContext.createDataFrame` method.  Then we'll print out the type and schema of the DataFrame.  The Python API has several examples for using the [`createDataFrame` method](http://spark.apache.org/docs/latest/api/python/pyspark.sql.html#pyspark.sql.SQLContext.createDataFrame)."
   ]
  },
  {
   "cell_type": "code",
   "execution_count": 1,
   "metadata": {
    "collapsed": false
   },
   "outputs": [
    {
     "name": "stdout",
     "output_type": "stream",
     "text": [
      "+--------+\n",
      "|    word|\n",
      "+--------+\n",
      "|     cat|\n",
      "|elephant|\n",
      "|     rat|\n",
      "|     rat|\n",
      "|     cat|\n",
      "+--------+\n",
      "\n",
      "<class 'pyspark.sql.dataframe.DataFrame'>\n",
      "root\n",
      " |-- word: string (nullable = true)\n",
      "\n"
     ]
    }
   ],
   "source": [
    "wordsDF = sqlContext.createDataFrame([('cat',), ('elephant',), ('rat',), ('rat',), ('cat',)], ['word'])\n",
    "wordsDF.show()\n",
    "print(type(wordsDF))\n",
    "wordsDF.printSchema()"
   ]
  },
  {
   "cell_type": "markdown",
   "metadata": {},
   "source": [
    "** (1b) Using DataFrame functions to add an 's' **\n",
    "\n",
    "Let's create a new DataFrame from `wordsDF` by performing an operation that adds an 's' to each word.  To do this, we'll call the [`select` DataFrame function](http://spark.apache.org/docs/latest/api/python/pyspark.sql.html#pyspark.sql.DataFrame.select) and pass in a column that has the recipe for adding an 's' to our existing column.  To generate this `Column` object you should use the [`concat` function](http://spark.apache.org/docs/latest/api/python/pyspark.sql.html#pyspark.sql.functions.concat) found in the [`pyspark.sql.functions` module](http://spark.apache.org/docs/latest/api/python/pyspark.sql.html#module-pyspark.sql.functions).  Note that `concat` takes in two or more string columns and returns a single string column.  In order to pass in a constant or literal value like 's', you'll need to wrap that value with the [`lit` column function](http://spark.apache.org/docs/latest/api/python/pyspark.sql.html#pyspark.sql.functions.lit).\n",
    ">literal value:在计算机科学中,字面值(literal暂且翻译成该意思)是代表源代码中固定值的符号。几乎所有的编程语言都有代表原子值的符号。字面值通常用来初始化变量，例如：1是整数字面值，\"cat\"是字符串字面值。<br/>\n",
    ">int a = 1;<br/>\n",
    ">String s = \"cat\";\n",
    "\n",
    "Please replace `<FILL IN>` with your solution.  After you have created `pluralDF` you can run the next cell which contains two tests.  If you implementation is correct it will print `1 test passed` for each test.\n",
    "\n",
    "This is the general form that exercises will take.  Exercises will include an explanation of what is expected, followed by code cells where one cell will have one or more `<FILL IN>` sections.  The cell that needs to be modified will have `# TODO: Replace <FILL IN> with appropriate code` on its first line.  Once the `<FILL IN>` sections are updated and the code is run, the test cell can then be run to verify the correctness of your solution.  The last code cell before the next markdown section will contain the tests.\n",
    "\n",
    "> Note:\n",
    "> Make sure that the resulting DataFrame has one column which is named 'word'."
   ]
  },
  {
   "cell_type": "code",
   "execution_count": 2,
   "metadata": {
    "collapsed": false
   },
   "outputs": [
    {
     "name": "stdout",
     "output_type": "stream",
     "text": [
      "+---------+\n",
      "|     word|\n",
      "+---------+\n",
      "|     cats|\n",
      "|elephants|\n",
      "|     rats|\n",
      "|     rats|\n",
      "|     cats|\n",
      "+---------+\n",
      "\n"
     ]
    }
   ],
   "source": [
    "from pyspark.sql.functions import concat,lit\n",
    "pluraDF = wordsDF.select(concat(wordsDF.word,lit('s')).alias('word'))\n",
    "pluraDF.show()"
   ]
  },
  {
   "cell_type": "markdown",
   "metadata": {},
   "source": [
    "** (1c) Length of each word **\n",
    "\n",
    "Now use the SQL `length` function to find the number of characters in each word.  The [`length` function](http://spark.apache.org/docs/latest/api/python/pyspark.sql.html#pyspark.sql.functions.length) is found in the `pyspark.sql.functions` module."
   ]
  },
  {
   "cell_type": "code",
   "execution_count": 3,
   "metadata": {
    "collapsed": false
   },
   "outputs": [
    {
     "name": "stdout",
     "output_type": "stream",
     "text": [
      "+------+\n",
      "|length|\n",
      "+------+\n",
      "|     4|\n",
      "|     9|\n",
      "|     4|\n",
      "|     4|\n",
      "|     4|\n",
      "+------+\n",
      "\n"
     ]
    }
   ],
   "source": [
    "from pyspark.sql.functions import length\n",
    "pluraLengthsDF = pluraDF.select(length(pluraDF.word).alias('length'))\n",
    "pluraLengthsDF.show()"
   ]
  },
  {
   "cell_type": "markdown",
   "metadata": {},
   "source": [
    "#### ** Part 2: Counting with Spark SQL and DataFrames **\n",
    "Now, let's count the number of times a particular word appears in the 'word' column. There are multiple ways to perform the counting, but some are much less efficient than others.\n",
    "\n",
    "A naive approach would be to call `collect` on all of the elements and count them in the driver program. While this approach could work for small datasets, we want an approach that will work for any size dataset including terabyte- or petabyte-sized datasets. In addition, performing all of the work in the driver program is slower than performing it in parallel in the workers. For these reasons, we will use **data parallel operations**.\n",
    "\n",
    "** (2a) Using `groupBy` and `count` **\n",
    "\n",
    "Using DataFrames, we can preform aggregations by grouping the data using the [`groupBy` function](http://spark.apache.org/docs/latest/api/python/pyspark.sql.html#pyspark.sql.DataFrame.groupBy) on the DataFrame.  Using `groupBy` returns a [`GroupedData` object](http://spark.apache.org/docs/latest/api/python/pyspark.sql.html#pyspark.sql.GroupedData) and we can use the functions available for `GroupedData` to aggregate the groups.  For example, we can call `avg` or `count` on a `GroupedData` object to obtain the average of the values in the groups or the number of occurrences in the groups, respectively.\n",
    "\n",
    "To find the counts of words, group by the words and then use the [`count` function](http://spark.apache.org/docs/latest/api/python/pyspark.sql.html#pyspark.sql.GroupedData.count) to find the number of times that words occur."
   ]
  },
  {
   "cell_type": "code",
   "execution_count": 4,
   "metadata": {
    "collapsed": false
   },
   "outputs": [
    {
     "name": "stdout",
     "output_type": "stream",
     "text": [
      "+---------+-----------+\n",
      "|     word|count(word)|\n",
      "+---------+-----------+\n",
      "|     rats|          2|\n",
      "|elephants|          1|\n",
      "|     cats|          2|\n",
      "+---------+-----------+\n",
      "\n"
     ]
    }
   ],
   "source": [
    "wordCountsDF = (pluraDF\n",
    "                .groupBy('word')\n",
    "                .agg({'word':\"count\"}))\n",
    "wordCountsDF.show()"
   ]
  },
  {
   "cell_type": "markdown",
   "metadata": {},
   "source": [
    "#### ** Part 3: Finding unique words and a mean value **\n",
    "** (3a) Unique words **\n",
    "\n",
    "Calculate the number of unique words in `wordsDF`.  You can use other DataFrames that you have already created to make this easier."
   ]
  },
  {
   "cell_type": "code",
   "execution_count": 5,
   "metadata": {
    "collapsed": false
   },
   "outputs": [
    {
     "name": "stdout",
     "output_type": "stream",
     "text": [
      "3\n"
     ]
    }
   ],
   "source": [
    "uniqueWordsCount = wordCountsDF.count()\n",
    "print(uniqueWordsCount)"
   ]
  },
  {
   "cell_type": "markdown",
   "metadata": {},
   "source": [
    "** (3b) Means of groups using DataFrames **\n",
    "\n",
    "Find the mean number of occurrences of words in `wordCountsDF`.\n",
    "\n",
    "You should use the [`mean` GroupedData method](http://spark.apache.org/docs/latest/api/python/pyspark.sql.html#pyspark.sql.GroupedData.mean) to accomplish this.  Note that when you use `groupBy` you don't need to pass in any columns.  A call without columns just prepares the DataFrame so that aggregation functions like `mean` can be applied."
   ]
  },
  {
   "cell_type": "code",
   "execution_count": 6,
   "metadata": {
    "collapsed": false
   },
   "outputs": [
    {
     "name": "stdout",
     "output_type": "stream",
     "text": [
      "1.6666666666666667\n"
     ]
    }
   ],
   "source": [
    "averageCount = (wordCountsDF\n",
    "               .groupBy()\n",
    "               .mean()\n",
    "               .first()[0])\n",
    "print(averageCount)"
   ]
  },
  {
   "cell_type": "markdown",
   "metadata": {},
   "source": [
    "#### ** Part 4: Apply word count to a file **\n",
    "In this section we will finish developing our word count application.  We'll have to build the `wordCount` function, deal with real world problems like capitalization and punctuation(字母大写和标点符号), load in our data source, and compute the word count on the new data.\n",
    "\n",
    "** (4a) The `wordCount` function **\n",
    "\n",
    "First, define a function for word counting.  You should reuse the techniques that have been covered in earlier parts of this lab.  This function should take in a DataFrame that is a list of words like `wordsDF` and return a DataFrame that has all of the words and their associated counts."
   ]
  },
  {
   "cell_type": "code",
   "execution_count": 7,
   "metadata": {
    "collapsed": false
   },
   "outputs": [
    {
     "name": "stdout",
     "output_type": "stream",
     "text": [
      "+--------+-----------+\n",
      "|    word|count(word)|\n",
      "+--------+-----------+\n",
      "|     rat|          2|\n",
      "|     cat|          2|\n",
      "|elephant|          1|\n",
      "+--------+-----------+\n",
      "\n"
     ]
    }
   ],
   "source": [
    "def wordCount(wordListDF):\n",
    "    \"\"\"Creates a DataFrame with word counts.\n",
    "\n",
    "    Args:\n",
    "        wordListDF (DataFrame of str): A DataFrame consisting of one string column called 'word'.\n",
    "\n",
    "    Returns:\n",
    "        DataFrame of (str, int): A DataFrame containing 'word' and 'count' columns.\n",
    "    \"\"\"\n",
    "    return wordListDF.groupBy(\"word\").agg({'word':'count'})\n",
    "wordCount(wordsDF).show()"
   ]
  },
  {
   "cell_type": "markdown",
   "metadata": {},
   "source": [
    "** (4b) Capitalization and punctuation(大小写和标点符号) **\n",
    "\n",
    "Real world files are more complicated than the data we have been using in this lab. Some of the issues we have to address are:\n",
    "  + Words should be counted independent of(不依赖…的；不受…支配的) their capitialization (e.g., Spark and spark should be counted as the same word).\n",
    "  + All punctuation should be removed.\n",
    "  + Any leading or trailing spaces(前导或尾随空格) on a line should be removed.\n",
    "\n",
    "Define the function `removePunctuation` that converts all text to lower case, removes any punctuation, and removes leading and trailing spaces.  Use the Python [regexp_replace](http://spark.apache.org/docs/latest/api/python/pyspark.sql.html#pyspark.sql.functions.regexp_replace) module to remove any text that is not a letter, number, or space. If you are unfamiliar with regular expressions, you may want to review [this tutorial](https://developers.google.com/edu/python/regular-expressions) from Google.  Also, [this website](https://regex101.com/#python) is  a great resource for debugging your regular expression.\n",
    "\n",
    "You should also use the `trim` and `lower` functions found in [pyspark.sql.functions](http://spark.apache.org/docs/latest/api/python/pyspark.sql.html#pyspark.sql.functions).\n",
    "\n",
    "> Note that you shouldn't use any RDD operations or need to create custom user defined functions (udfs) to accomplish this task"
   ]
  },
  {
   "cell_type": "code",
   "execution_count": 8,
   "metadata": {
    "collapsed": false
   },
   "outputs": [
    {
     "name": "stdout",
     "output_type": "stream",
     "text": [
      "+------------------------------------------+\n",
      "|sentence                                  |\n",
      "+------------------------------------------+\n",
      "|Hi, you!                                  |\n",
      "| No under_score!                          |\n",
      "| *      Remove punctuation then spaces  * |\n",
      "+------------------------------------------+\n",
      "\n",
      "+--------------------------------------------------------+\n",
      "|lower(trim(regexp_replace(sentence, ([^a-zA-Z0-9]),  )))|\n",
      "+--------------------------------------------------------+\n",
      "|hi  you                                                 |\n",
      "|no under score                                          |\n",
      "|remove punctuation then spaces                          |\n",
      "+--------------------------------------------------------+\n",
      "\n"
     ]
    }
   ],
   "source": [
    "from pyspark.sql.functions import regexp_replace, trim, col, lower\n",
    "def removePunctuation(column):\n",
    "    \"\"\"Removes punctuation, changes to lower case, and strips leading and trailing spaces.\n",
    "\n",
    "    Note:\n",
    "        Only spaces, letters, and numbers should be retained.  Other characters should be\n",
    "        eliminated(消除；排除)(e.g. it's becomes its).  Leading and trailing spaces should \n",
    "        be removed after punctuation is removed.\n",
    "\n",
    "    Args:\n",
    "        column (Column): A Column containing a sentence(句子).\n",
    "\n",
    "    Returns:\n",
    "        Column: A Column named 'sentence' with clean-up operations applied.\n",
    "    \"\"\"\n",
    "    return lower(trim(regexp_replace(column, '([^a-zA-Z0-9])', \" \")))\n",
    "\n",
    "sentenceDF = sqlContext.createDataFrame([('Hi, you!',),\n",
    "                                         (' No under_score!',),\n",
    "                                         (' *      Remove punctuation then spaces  * ',)],\n",
    "                                        ['sentence'])\n",
    "sentenceDF.show(truncate=False)\n",
    "(sentenceDF\n",
    ".select(removePunctuation(col('sentence')))\n",
    ".show(truncate=False))"
   ]
  },
  {
   "cell_type": "markdown",
   "metadata": {},
   "source": [
    "** (4c) Load a text file **\n",
    "\n",
    "For the next part of this lab, we will use the [Complete Works of William Shakespeare](http://www.gutenberg.org/ebooks/100) from [Project Gutenberg](http://www.gutenberg.org/wiki/Main_Page). To convert a text file into a DataFrame, we use the `sqlContext.read.text()` method. We also apply the recently defined `removePunctuation()` function using a `select()` transformation to strip out the punctuation and change all text to lower case.  Since the file is large we use `show(15)`, so that we only print 15 lines."
   ]
  },
  {
   "cell_type": "code",
   "execution_count": 9,
   "metadata": {
    "collapsed": false
   },
   "outputs": [
    {
     "name": "stdout",
     "output_type": "stream",
     "text": [
      "124788\n"
     ]
    },
    {
     "data": {
      "text/plain": [
       "[Row(value='The Project Gutenberg EBook of The Complete Works of William Shakespeare, by'),\n",
       " Row(value='William Shakespeare'),\n",
       " Row(value=''),\n",
       " Row(value='This eBook is for the use of anyone anywhere at no cost and with'),\n",
       " Row(value='almost no restrictions whatsoever.  You may copy it, give it away or')]"
      ]
     },
     "execution_count": 9,
     "metadata": {},
     "output_type": "execute_result"
    }
   ],
   "source": [
    "fileName = \"datasets/shakespeare.txt\"\n",
    "shakespeareDFTemp = sqlContext.read.text(fileName)\n",
    "print(shakespeareDFTemp.count())\n",
    "shakespeareDFTemp.take(5)"
   ]
  },
  {
   "cell_type": "code",
   "execution_count": 10,
   "metadata": {
    "collapsed": false
   },
   "outputs": [
    {
     "name": "stdout",
     "output_type": "stream",
     "text": [
      "+----------------------------------------------------------------------------+\n",
      "|word                                                                        |\n",
      "+----------------------------------------------------------------------------+\n",
      "|the project gutenberg ebook of the complete works of william shakespeare  by|\n",
      "|william shakespeare                                                         |\n",
      "|                                                                            |\n",
      "|this ebook is for the use of anyone anywhere at no cost and with            |\n",
      "|almost no restrictions whatsoever   you may copy it  give it away or        |\n",
      "+----------------------------------------------------------------------------+\n",
      "only showing top 5 rows\n",
      "\n"
     ]
    }
   ],
   "source": [
    "shakespeareDF = shakespeareDFTemp.select(removePunctuation(col('value')).alias('word'))\n",
    "shakespeareDF.show(5,truncate=False)"
   ]
  },
  {
   "cell_type": "markdown",
   "metadata": {},
   "source": [
    "** (4d) Words from lines **\n",
    "\n",
    "Before we can use the `wordcount()` function, we have to address two issues with the format of the DataFrame:\n",
    "  + The first issue is that  that we need to split each line by its spaces.\n",
    "  + The second issue is we need to filter out empty lines or words.\n",
    "\n",
    "Apply a transformation that will split each 'sentence' in the DataFrame by its spaces, and then transform from a DataFrame that contains lists of words into a DataFrame with each word in its own row.  To accomplish these two tasks you can use the `split` and `explode` functions found in [pyspark.sql.functions](http://spark.apache.org/docs/latest/api/python/pyspark.sql.html#pyspark.sql.functions).\n",
    "\n",
    "Once you have a DataFrame with one word per row you can apply the [DataFrame operation `where`](http://spark.apache.org/docs/latest/api/python/pyspark.sql.html#pyspark.sql.DataFrame.where) to remove the rows that contain ''.\n",
    "\n",
    "> Note that `shakeWordsDF` should be a DataFrame with one column named `word`."
   ]
  },
  {
   "cell_type": "code",
   "execution_count": 11,
   "metadata": {
    "collapsed": false
   },
   "outputs": [
    {
     "name": "stdout",
     "output_type": "stream",
     "text": [
      "+-----------+\n",
      "|       word|\n",
      "+-----------+\n",
      "|        the|\n",
      "|    project|\n",
      "|  gutenberg|\n",
      "|      ebook|\n",
      "|         of|\n",
      "|        the|\n",
      "|   complete|\n",
      "|      works|\n",
      "|         of|\n",
      "|    william|\n",
      "|shakespeare|\n",
      "|         by|\n",
      "|    william|\n",
      "|shakespeare|\n",
      "|       this|\n",
      "|      ebook|\n",
      "|         is|\n",
      "|        for|\n",
      "|        the|\n",
      "|        use|\n",
      "+-----------+\n",
      "only showing top 20 rows\n",
      "\n",
      "932356\n"
     ]
    }
   ],
   "source": [
    "from pyspark.sql.functions import split, explode\n",
    "shakeWordsDF = shakespeareDF.select(explode(split(shakespeareDF.word,\"[ ]+\")).alias(\"word\")).where(length(\"word\") != 0)\n",
    "shakeWordsDF.show()\n",
    "shakeWordsDFCount = shakeWordsDF.count()\n",
    "print (shakeWordsDFCount)"
   ]
  },
  {
   "cell_type": "markdown",
   "metadata": {},
   "source": [
    "** (4e) Count the words **\n",
    "\n",
    "We now have a DataFrame that is only words.  Next, let's apply the `wordCount()` function to produce a list of word counts. We can view the first 20 words by using the `show()` action; however, we'd like to see the words in descending order of count, so we'll need to apply the [`orderBy` DataFrame method](http://spark.apache.org/docs/latest/api/python/pyspark.sql.html#pyspark.sql.DataFrame.orderBy) to first sort the DataFrame that is returned from `wordCount()`.\n",
    "\n",
    "You'll notice that many of the words are common English words. These are called stopwords. In a later lab, we will see how to eliminate them from the results."
   ]
  },
  {
   "cell_type": "code",
   "execution_count": 12,
   "metadata": {
    "collapsed": false
   },
   "outputs": [
    {
     "name": "stdout",
     "output_type": "stream",
     "text": [
      "+----+-----------+\n",
      "|word|count(word)|\n",
      "+----+-----------+\n",
      "| the|      27843|\n",
      "| and|      26847|\n",
      "|   i|      22538|\n",
      "|  to|      19882|\n",
      "|  of|      18307|\n",
      "|   a|      14800|\n",
      "| you|      13928|\n",
      "|  my|      12490|\n",
      "|that|      11563|\n",
      "|  in|      11183|\n",
      "|  is|       9808|\n",
      "|   d|       8961|\n",
      "| not|       8760|\n",
      "| for|       8358|\n",
      "|with|       8066|\n",
      "|  me|       7778|\n",
      "|  it|       7750|\n",
      "|   s|       7734|\n",
      "|  be|       7146|\n",
      "|this|       6900|\n",
      "+----+-----------+\n",
      "only showing top 20 rows\n",
      "\n"
     ]
    }
   ],
   "source": [
    "from pyspark.sql.functions import desc\n",
    "topWordsAndCountsDF = wordCount(shakeWordsDF).orderBy(desc(\"count(word)\"))\n",
    "topWordsAndCountsDF.show()"
   ]
  }
 ],
 "metadata": {
  "anaconda-cloud": {},
  "kernelspec": {
   "display_name": "Python [Root]",
   "language": "python",
   "name": "Python [Root]"
  },
  "language_info": {
   "codemirror_mode": {
    "name": "ipython",
    "version": 3
   },
   "file_extension": ".py",
   "mimetype": "text/x-python",
   "name": "python",
   "nbconvert_exporter": "python",
   "pygments_lexer": "ipython3",
   "version": "3.5.2"
  }
 },
 "nbformat": 4,
 "nbformat_minor": 0
}
